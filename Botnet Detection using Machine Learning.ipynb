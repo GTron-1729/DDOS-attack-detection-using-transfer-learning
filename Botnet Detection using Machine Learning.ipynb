{
 "cells": [
  {
   "cell_type": "markdown",
   "metadata": {},
   "source": [
    "# Botnet Detection Using Machine Learning"
   ]
  },
  {
   "cell_type": "code",
   "execution_count": 23,
   "metadata": {},
   "outputs": [],
   "source": [
    "import pandas as pd\n",
    "import pylab as pl\n",
    "import numpy as np\n",
    "from sklearn.model_selection import train_test_split\n",
    "%matplotlib inline \n",
    "import matplotlib.pyplot as plt\n"
   ]
  },
  {
   "cell_type": "code",
   "execution_count": 24,
   "metadata": {},
   "outputs": [],
   "source": [
    "x_train = pd.read_csv( \"X_Train_Dataset.csv\")\n",
    "y_train = pd.read_csv( \"Y_Train_Dataset.csv\")\n",
    "x_test = pd.read_csv(  \"X_Test_Dataset.csv\")\n",
    "y_test = pd.read_csv( \"Y_Test_Dataset.csv\")"
   ]
  },
  {
   "cell_type": "code",
   "execution_count": 25,
   "metadata": {},
   "outputs": [
    {
     "name": "stdout",
     "output_type": "stream",
     "text": [
      "(10354, 7)\n",
      "(10354, 2)\n",
      "(2590, 7)\n",
      "(2590, 2)\n"
     ]
    }
   ],
   "source": [
    "print(x_train.shape)\n",
    "print(y_train.shape)\n",
    "print(x_test.shape)\n",
    "print(y_test.shape)"
   ]
  },
  {
   "cell_type": "code",
   "execution_count": 26,
   "metadata": {},
   "outputs": [
    {
     "data": {
      "text/html": [
       "<div>\n",
       "<style scoped>\n",
       "    .dataframe tbody tr th:only-of-type {\n",
       "        vertical-align: middle;\n",
       "    }\n",
       "\n",
       "    .dataframe tbody tr th {\n",
       "        vertical-align: top;\n",
       "    }\n",
       "\n",
       "    .dataframe thead th {\n",
       "        text-align: right;\n",
       "    }\n",
       "</style>\n",
       "<table border=\"1\" class=\"dataframe\">\n",
       "  <thead>\n",
       "    <tr style=\"text-align: right;\">\n",
       "      <th></th>\n",
       "      <th>Unnamed: 0</th>\n",
       "      <th>Dst IP Addr:Port</th>\n",
       "      <th>Durat</th>\n",
       "      <th>Flags</th>\n",
       "      <th>Flows</th>\n",
       "      <th>Packets Bytes</th>\n",
       "      <th>Prot</th>\n",
       "    </tr>\n",
       "  </thead>\n",
       "  <tbody>\n",
       "    <tr>\n",
       "      <td>0</td>\n",
       "      <td>171</td>\n",
       "      <td>194.108.204.27:44728</td>\n",
       "      <td>4.974</td>\n",
       "      <td>PA_</td>\n",
       "      <td>1444</td>\n",
       "      <td>4</td>\n",
       "      <td>TCP</td>\n",
       "    </tr>\n",
       "    <tr>\n",
       "      <td>1</td>\n",
       "      <td>5028</td>\n",
       "      <td>147.32.80.9:53</td>\n",
       "      <td>0.000</td>\n",
       "      <td>INT</td>\n",
       "      <td>89</td>\n",
       "      <td>1</td>\n",
       "      <td>UDP</td>\n",
       "    </tr>\n",
       "    <tr>\n",
       "      <td>2</td>\n",
       "      <td>6071</td>\n",
       "      <td>147.102.3.36:45035</td>\n",
       "      <td>0.000</td>\n",
       "      <td>INT</td>\n",
       "      <td>179</td>\n",
       "      <td>1</td>\n",
       "      <td>UDP</td>\n",
       "    </tr>\n",
       "    <tr>\n",
       "      <td>3</td>\n",
       "      <td>3020</td>\n",
       "      <td>24.59.84.197:36116</td>\n",
       "      <td>0.000</td>\n",
       "      <td>INT</td>\n",
       "      <td>71</td>\n",
       "      <td>1</td>\n",
       "      <td>UDP</td>\n",
       "    </tr>\n",
       "    <tr>\n",
       "      <td>4</td>\n",
       "      <td>5606</td>\n",
       "      <td>147.32.84.229:13363</td>\n",
       "      <td>0.000</td>\n",
       "      <td>INT</td>\n",
       "      <td>77</td>\n",
       "      <td>1</td>\n",
       "      <td>UDP</td>\n",
       "    </tr>\n",
       "    <tr>\n",
       "      <td>5</td>\n",
       "      <td>1490</td>\n",
       "      <td>62.44.1.26:8000</td>\n",
       "      <td>4.917</td>\n",
       "      <td>A_</td>\n",
       "      <td>2244</td>\n",
       "      <td>34</td>\n",
       "      <td>TCP</td>\n",
       "    </tr>\n",
       "    <tr>\n",
       "      <td>6</td>\n",
       "      <td>4046</td>\n",
       "      <td>183.97.82.238:32816</td>\n",
       "      <td>0.499</td>\n",
       "      <td>PA_</td>\n",
       "      <td>129</td>\n",
       "      <td>2</td>\n",
       "      <td>TCP</td>\n",
       "    </tr>\n",
       "    <tr>\n",
       "      <td>7</td>\n",
       "      <td>3144</td>\n",
       "      <td>94.208.151.88:49974</td>\n",
       "      <td>0.000</td>\n",
       "      <td>INT</td>\n",
       "      <td>182</td>\n",
       "      <td>1</td>\n",
       "      <td>UDP</td>\n",
       "    </tr>\n",
       "    <tr>\n",
       "      <td>8</td>\n",
       "      <td>2940</td>\n",
       "      <td>109.208.128.49:1089</td>\n",
       "      <td>0.095</td>\n",
       "      <td>PA_</td>\n",
       "      <td>120</td>\n",
       "      <td>2</td>\n",
       "      <td>TCP</td>\n",
       "    </tr>\n",
       "    <tr>\n",
       "      <td>9</td>\n",
       "      <td>4494</td>\n",
       "      <td>77.78.99.23:80</td>\n",
       "      <td>3.096</td>\n",
       "      <td>SRPA_</td>\n",
       "      <td>1276</td>\n",
       "      <td>5</td>\n",
       "      <td>TCP</td>\n",
       "    </tr>\n",
       "  </tbody>\n",
       "</table>\n",
       "</div>"
      ],
      "text/plain": [
       "   Unnamed: 0      Dst IP Addr:Port  Durat  Flags  Flows  Packets Bytes Prot\n",
       "0         171  194.108.204.27:44728  4.974    PA_   1444              4  TCP\n",
       "1        5028        147.32.80.9:53  0.000    INT     89              1  UDP\n",
       "2        6071    147.102.3.36:45035  0.000    INT    179              1  UDP\n",
       "3        3020    24.59.84.197:36116  0.000    INT     71              1  UDP\n",
       "4        5606   147.32.84.229:13363  0.000    INT     77              1  UDP\n",
       "5        1490       62.44.1.26:8000  4.917     A_   2244             34  TCP\n",
       "6        4046   183.97.82.238:32816  0.499    PA_    129              2  TCP\n",
       "7        3144   94.208.151.88:49974  0.000    INT    182              1  UDP\n",
       "8        2940   109.208.128.49:1089  0.095    PA_    120              2  TCP\n",
       "9        4494        77.78.99.23:80  3.096  SRPA_   1276              5  TCP"
      ]
     },
     "execution_count": 26,
     "metadata": {},
     "output_type": "execute_result"
    }
   ],
   "source": [
    "x_train.head(10)"
   ]
  },
  {
   "cell_type": "code",
   "execution_count": 27,
   "metadata": {},
   "outputs": [
    {
     "data": {
      "text/html": [
       "<div>\n",
       "<style scoped>\n",
       "    .dataframe tbody tr th:only-of-type {\n",
       "        vertical-align: middle;\n",
       "    }\n",
       "\n",
       "    .dataframe tbody tr th {\n",
       "        vertical-align: top;\n",
       "    }\n",
       "\n",
       "    .dataframe thead th {\n",
       "        text-align: right;\n",
       "    }\n",
       "</style>\n",
       "<table border=\"1\" class=\"dataframe\">\n",
       "  <thead>\n",
       "    <tr style=\"text-align: right;\">\n",
       "      <th></th>\n",
       "      <th>Unnamed: 0</th>\n",
       "      <th>0</th>\n",
       "    </tr>\n",
       "  </thead>\n",
       "  <tbody>\n",
       "    <tr>\n",
       "      <td>0</td>\n",
       "      <td>171</td>\n",
       "      <td>0</td>\n",
       "    </tr>\n",
       "    <tr>\n",
       "      <td>1</td>\n",
       "      <td>5025</td>\n",
       "      <td>0</td>\n",
       "    </tr>\n",
       "    <tr>\n",
       "      <td>2</td>\n",
       "      <td>6068</td>\n",
       "      <td>0</td>\n",
       "    </tr>\n",
       "    <tr>\n",
       "      <td>3</td>\n",
       "      <td>3017</td>\n",
       "      <td>0</td>\n",
       "    </tr>\n",
       "    <tr>\n",
       "      <td>4</td>\n",
       "      <td>5603</td>\n",
       "      <td>0</td>\n",
       "    </tr>\n",
       "  </tbody>\n",
       "</table>\n",
       "</div>"
      ],
      "text/plain": [
       "   Unnamed: 0  0\n",
       "0         171  0\n",
       "1        5025  0\n",
       "2        6068  0\n",
       "3        3017  0\n",
       "4        5603  0"
      ]
     },
     "execution_count": 27,
     "metadata": {},
     "output_type": "execute_result"
    }
   ],
   "source": [
    "y_train.head()"
   ]
  },
  {
   "cell_type": "code",
   "execution_count": 28,
   "metadata": {},
   "outputs": [],
   "source": [
    "x_train = x_train.drop(labels = [  \"Unnamed: 0\"] ,axis = 1 )\n",
    "x_test = x_test.drop(labels = [  \"Unnamed: 0\"] ,axis = 1 )\n",
    "y_train = y_train.drop(labels = [ \"Unnamed: 0\"] ,axis = 1 )\n",
    "y_test = y_test.drop(labels = [  \"Unnamed: 0\"] ,axis = 1 )"
   ]
  },
  {
   "cell_type": "code",
   "execution_count": 29,
   "metadata": {},
   "outputs": [
    {
     "data": {
      "text/html": [
       "<div>\n",
       "<style scoped>\n",
       "    .dataframe tbody tr th:only-of-type {\n",
       "        vertical-align: middle;\n",
       "    }\n",
       "\n",
       "    .dataframe tbody tr th {\n",
       "        vertical-align: top;\n",
       "    }\n",
       "\n",
       "    .dataframe thead th {\n",
       "        text-align: right;\n",
       "    }\n",
       "</style>\n",
       "<table border=\"1\" class=\"dataframe\">\n",
       "  <thead>\n",
       "    <tr style=\"text-align: right;\">\n",
       "      <th></th>\n",
       "      <th>Dst IP Addr:Port</th>\n",
       "      <th>Durat</th>\n",
       "      <th>Flags</th>\n",
       "      <th>Flows</th>\n",
       "      <th>Packets Bytes</th>\n",
       "      <th>Prot</th>\n",
       "    </tr>\n",
       "  </thead>\n",
       "  <tbody>\n",
       "    <tr>\n",
       "      <td>0</td>\n",
       "      <td>194.108.204.27:44728</td>\n",
       "      <td>4.974</td>\n",
       "      <td>PA_</td>\n",
       "      <td>1444</td>\n",
       "      <td>4</td>\n",
       "      <td>TCP</td>\n",
       "    </tr>\n",
       "    <tr>\n",
       "      <td>1</td>\n",
       "      <td>147.32.80.9:53</td>\n",
       "      <td>0.000</td>\n",
       "      <td>INT</td>\n",
       "      <td>89</td>\n",
       "      <td>1</td>\n",
       "      <td>UDP</td>\n",
       "    </tr>\n",
       "    <tr>\n",
       "      <td>2</td>\n",
       "      <td>147.102.3.36:45035</td>\n",
       "      <td>0.000</td>\n",
       "      <td>INT</td>\n",
       "      <td>179</td>\n",
       "      <td>1</td>\n",
       "      <td>UDP</td>\n",
       "    </tr>\n",
       "    <tr>\n",
       "      <td>3</td>\n",
       "      <td>24.59.84.197:36116</td>\n",
       "      <td>0.000</td>\n",
       "      <td>INT</td>\n",
       "      <td>71</td>\n",
       "      <td>1</td>\n",
       "      <td>UDP</td>\n",
       "    </tr>\n",
       "    <tr>\n",
       "      <td>4</td>\n",
       "      <td>147.32.84.229:13363</td>\n",
       "      <td>0.000</td>\n",
       "      <td>INT</td>\n",
       "      <td>77</td>\n",
       "      <td>1</td>\n",
       "      <td>UDP</td>\n",
       "    </tr>\n",
       "  </tbody>\n",
       "</table>\n",
       "</div>"
      ],
      "text/plain": [
       "       Dst IP Addr:Port  Durat Flags  Flows  Packets Bytes Prot\n",
       "0  194.108.204.27:44728  4.974   PA_   1444              4  TCP\n",
       "1        147.32.80.9:53  0.000   INT     89              1  UDP\n",
       "2    147.102.3.36:45035  0.000   INT    179              1  UDP\n",
       "3    24.59.84.197:36116  0.000   INT     71              1  UDP\n",
       "4   147.32.84.229:13363  0.000   INT     77              1  UDP"
      ]
     },
     "execution_count": 29,
     "metadata": {},
     "output_type": "execute_result"
    }
   ],
   "source": [
    "x_train.head()\n"
   ]
  },
  {
   "cell_type": "code",
   "execution_count": 30,
   "metadata": {},
   "outputs": [
    {
     "data": {
      "text/html": [
       "<div>\n",
       "<style scoped>\n",
       "    .dataframe tbody tr th:only-of-type {\n",
       "        vertical-align: middle;\n",
       "    }\n",
       "\n",
       "    .dataframe tbody tr th {\n",
       "        vertical-align: top;\n",
       "    }\n",
       "\n",
       "    .dataframe thead th {\n",
       "        text-align: right;\n",
       "    }\n",
       "</style>\n",
       "<table border=\"1\" class=\"dataframe\">\n",
       "  <thead>\n",
       "    <tr style=\"text-align: right;\">\n",
       "      <th></th>\n",
       "      <th>0</th>\n",
       "    </tr>\n",
       "  </thead>\n",
       "  <tbody>\n",
       "    <tr>\n",
       "      <td>0</td>\n",
       "      <td>0</td>\n",
       "    </tr>\n",
       "    <tr>\n",
       "      <td>1</td>\n",
       "      <td>0</td>\n",
       "    </tr>\n",
       "    <tr>\n",
       "      <td>2</td>\n",
       "      <td>0</td>\n",
       "    </tr>\n",
       "    <tr>\n",
       "      <td>3</td>\n",
       "      <td>0</td>\n",
       "    </tr>\n",
       "    <tr>\n",
       "      <td>4</td>\n",
       "      <td>0</td>\n",
       "    </tr>\n",
       "  </tbody>\n",
       "</table>\n",
       "</div>"
      ],
      "text/plain": [
       "   0\n",
       "0  0\n",
       "1  0\n",
       "2  0\n",
       "3  0\n",
       "4  0"
      ]
     },
     "execution_count": 30,
     "metadata": {},
     "output_type": "execute_result"
    }
   ],
   "source": [
    "y_train.head()"
   ]
  },
  {
   "cell_type": "code",
   "execution_count": 31,
   "metadata": {},
   "outputs": [],
   "source": [
    "y = x_train[\"Dst IP Addr:Port\"].str.split(\":\")"
   ]
  },
  {
   "cell_type": "code",
   "execution_count": 32,
   "metadata": {},
   "outputs": [],
   "source": [
    "y = pd.Series(y)"
   ]
  },
  {
   "cell_type": "code",
   "execution_count": 33,
   "metadata": {},
   "outputs": [],
   "source": [
    "x_train[\"Dst IP Addr:Port\"] = y.str.get(1)"
   ]
  },
  {
   "cell_type": "code",
   "execution_count": 34,
   "metadata": {},
   "outputs": [
    {
     "data": {
      "text/plain": [
       "Dst IP Addr:Port     object\n",
       "Durat               float64\n",
       "Flags                object\n",
       "Flows                 int64\n",
       "Packets Bytes         int64\n",
       "Prot                 object\n",
       "dtype: object"
      ]
     },
     "execution_count": 34,
     "metadata": {},
     "output_type": "execute_result"
    }
   ],
   "source": [
    "x_train.dtypes"
   ]
  },
  {
   "cell_type": "code",
   "execution_count": 35,
   "metadata": {},
   "outputs": [
    {
     "data": {
      "text/html": [
       "<div>\n",
       "<style scoped>\n",
       "    .dataframe tbody tr th:only-of-type {\n",
       "        vertical-align: middle;\n",
       "    }\n",
       "\n",
       "    .dataframe tbody tr th {\n",
       "        vertical-align: top;\n",
       "    }\n",
       "\n",
       "    .dataframe thead th {\n",
       "        text-align: right;\n",
       "    }\n",
       "</style>\n",
       "<table border=\"1\" class=\"dataframe\">\n",
       "  <thead>\n",
       "    <tr style=\"text-align: right;\">\n",
       "      <th></th>\n",
       "      <th>Dst IP Addr:Port</th>\n",
       "      <th>Durat</th>\n",
       "      <th>Flags</th>\n",
       "      <th>Flows</th>\n",
       "      <th>Packets Bytes</th>\n",
       "      <th>Prot</th>\n",
       "    </tr>\n",
       "  </thead>\n",
       "  <tbody>\n",
       "    <tr>\n",
       "      <td>0</td>\n",
       "      <td>44728</td>\n",
       "      <td>4.974</td>\n",
       "      <td>PA_</td>\n",
       "      <td>1444</td>\n",
       "      <td>4</td>\n",
       "      <td>TCP</td>\n",
       "    </tr>\n",
       "    <tr>\n",
       "      <td>1</td>\n",
       "      <td>53</td>\n",
       "      <td>0.000</td>\n",
       "      <td>INT</td>\n",
       "      <td>89</td>\n",
       "      <td>1</td>\n",
       "      <td>UDP</td>\n",
       "    </tr>\n",
       "    <tr>\n",
       "      <td>2</td>\n",
       "      <td>45035</td>\n",
       "      <td>0.000</td>\n",
       "      <td>INT</td>\n",
       "      <td>179</td>\n",
       "      <td>1</td>\n",
       "      <td>UDP</td>\n",
       "    </tr>\n",
       "    <tr>\n",
       "      <td>3</td>\n",
       "      <td>36116</td>\n",
       "      <td>0.000</td>\n",
       "      <td>INT</td>\n",
       "      <td>71</td>\n",
       "      <td>1</td>\n",
       "      <td>UDP</td>\n",
       "    </tr>\n",
       "    <tr>\n",
       "      <td>4</td>\n",
       "      <td>13363</td>\n",
       "      <td>0.000</td>\n",
       "      <td>INT</td>\n",
       "      <td>77</td>\n",
       "      <td>1</td>\n",
       "      <td>UDP</td>\n",
       "    </tr>\n",
       "  </tbody>\n",
       "</table>\n",
       "</div>"
      ],
      "text/plain": [
       "  Dst IP Addr:Port  Durat Flags  Flows  Packets Bytes Prot\n",
       "0            44728  4.974   PA_   1444              4  TCP\n",
       "1               53  0.000   INT     89              1  UDP\n",
       "2            45035  0.000   INT    179              1  UDP\n",
       "3            36116  0.000   INT     71              1  UDP\n",
       "4            13363  0.000   INT     77              1  UDP"
      ]
     },
     "execution_count": 35,
     "metadata": {},
     "output_type": "execute_result"
    }
   ],
   "source": [
    "x_train.head()\n"
   ]
  },
  {
   "cell_type": "code",
   "execution_count": 36,
   "metadata": {},
   "outputs": [],
   "source": [
    "x_train[\"Dst IP Addr:Port\"] = pd.to_numeric(x_train[\"Dst IP Addr:Port\"],errors='coerce')"
   ]
  },
  {
   "cell_type": "code",
   "execution_count": 37,
   "metadata": {},
   "outputs": [],
   "source": [
    "y1 = x_test[\"Dst IP Addr:Port\"].str.split(\":\")\n",
    "y1 = pd.Series(y1)\n",
    "x_test[\"Dst IP Addr:Port\"] = y1.str.get(1)\n",
    "x_test[\"Dst IP Addr:Port\"] = pd.to_numeric(x_test[\"Dst IP Addr:Port\"],errors='coerce')"
   ]
  },
  {
   "cell_type": "code",
   "execution_count": 38,
   "metadata": {},
   "outputs": [
    {
     "data": {
      "text/plain": [
       "INT       3662\n",
       "S_        1526\n",
       "PA_       1102\n",
       "ECR        514\n",
       "RA_        505\n",
       "ECO        480\n",
       "UNK        425\n",
       "A_         397\n",
       "FA_        204\n",
       "SPA_       190\n",
       "_FSPA      154\n",
       "FSPA_      107\n",
       "RTA        101\n",
       "TSR         99\n",
       "IRQ         96\n",
       "SA_         96\n",
       "RTS         96\n",
       "TST         93\n",
       "IRR         91\n",
       "MSR         88\n",
       "MAS         88\n",
       "URP         41\n",
       "SRPA_       33\n",
       "FPA_        30\n",
       "R_          18\n",
       "ROB         15\n",
       "RED         12\n",
       "FSRPA_       9\n",
       "SRA_         5\n",
       "URH          5\n",
       "NNS          4\n",
       "TXD          4\n",
       "NNA          4\n",
       "NRA          4\n",
       "MHR          4\n",
       "TRC          4\n",
       "AHA          3\n",
       "MRQ          3\n",
       "IAH          3\n",
       "FSA_         3\n",
       "SKP          3\n",
       "MRP          2\n",
       "PAR          2\n",
       "FRPA_        2\n",
       "RPA_         2\n",
       "WAY          2\n",
       "_FSA         2\n",
       "CON          2\n",
       "DNP          2\n",
       "URN          1\n",
       "DCE          1\n",
       "FSRA_        1\n",
       "URFIL        1\n",
       "_FSRPA       1\n",
       "NRS          1\n",
       "UR           1\n",
       "SRC          1\n",
       "PHO          1\n",
       "FRA_         1\n",
       "SEC          1\n",
       "Name: Flags, dtype: int64"
      ]
     },
     "execution_count": 38,
     "metadata": {},
     "output_type": "execute_result"
    }
   ],
   "source": [
    "x_train['Flags'].value_counts()"
   ]
  },
  {
   "cell_type": "markdown",
   "metadata": {},
   "source": [
    "# Encoding of Train Data"
   ]
  },
  {
   "cell_type": "code",
   "execution_count": 39,
   "metadata": {},
   "outputs": [
    {
     "data": {
      "text/plain": [
       "array([29, 16,  1, 44, 41,  8, 58,  5,  7, 13, 38, 45, 31, 12, 55, 14, 57,\n",
       "       53, 11,  9, 37, 32, 42,  2, 10,  6, 25, 49, 34, 52, 59, 54, 50, 33,\n",
       "       35, 19, 17, 18, 48, 47, 36, 23,  4, 60, 21, 22, 20, 46,  0, 43, 26,\n",
       "       30, 40, 28,  3, 24, 39, 15, 56, 51, 27], dtype=int64)"
      ]
     },
     "execution_count": 39,
     "metadata": {},
     "output_type": "execute_result"
    }
   ],
   "source": [
    "# Import label encoder \n",
    "from sklearn import preprocessing \n",
    "  \n",
    "# label_encoder object knows how to understand word labels. \n",
    "label_encoder = preprocessing.LabelEncoder() \n",
    "  \n",
    "# Encode labels in column 'species'. \n",
    "x_train['Flags']= label_encoder.fit_transform(x_train['Flags'].astype(str)) \n",
    "  \n",
    "x_train['Flags'].unique() \n"
   ]
  },
  {
   "cell_type": "code",
   "execution_count": 40,
   "metadata": {},
   "outputs": [
    {
     "data": {
      "text/plain": [
       "array([6, 7, 2, 0, 5, 4, 3, 1], dtype=int64)"
      ]
     },
     "execution_count": 40,
     "metadata": {},
     "output_type": "execute_result"
    }
   ],
   "source": [
    "x_train['Prot']= label_encoder.fit_transform(x_train['Prot'].astype(str)) \n",
    "x_train['Prot'].unique() "
   ]
  },
  {
   "cell_type": "markdown",
   "metadata": {},
   "source": [
    "# Encoding of Test Data"
   ]
  },
  {
   "cell_type": "code",
   "execution_count": 41,
   "metadata": {},
   "outputs": [
    {
     "data": {
      "text/plain": [
       "array([5, 4, 1, 3, 2, 0], dtype=int64)"
      ]
     },
     "execution_count": 41,
     "metadata": {},
     "output_type": "execute_result"
    }
   ],
   "source": [
    "x_test['Flags']= label_encoder.fit_transform(x_test['Flags'].astype(str)) \n",
    "  \n",
    "x_test['Flags'].unique() \n",
    "\n",
    "x_test['Prot']= label_encoder.fit_transform(x_test['Prot'].astype(str)) \n",
    "  \n",
    "x_test['Prot'].unique() "
   ]
  },
  {
   "cell_type": "code",
   "execution_count": 42,
   "metadata": {},
   "outputs": [],
   "source": [
    "x_train[\"Dst IP Addr:Port\"] =x_train[\"Dst IP Addr:Port\"].fillna(0)\n",
    "x_test[\"Dst IP Addr:Port\"] =x_test[\"Dst IP Addr:Port\"].fillna(0)"
   ]
  },
  {
   "cell_type": "code",
   "execution_count": 44,
   "metadata": {},
   "outputs": [
    {
     "data": {
      "text/html": [
       "<div>\n",
       "<style scoped>\n",
       "    .dataframe tbody tr th:only-of-type {\n",
       "        vertical-align: middle;\n",
       "    }\n",
       "\n",
       "    .dataframe tbody tr th {\n",
       "        vertical-align: top;\n",
       "    }\n",
       "\n",
       "    .dataframe thead th {\n",
       "        text-align: right;\n",
       "    }\n",
       "</style>\n",
       "<table border=\"1\" class=\"dataframe\">\n",
       "  <thead>\n",
       "    <tr style=\"text-align: right;\">\n",
       "      <th></th>\n",
       "      <th>Dst IP Addr:Port</th>\n",
       "      <th>Durat</th>\n",
       "      <th>Flags</th>\n",
       "      <th>Flows</th>\n",
       "      <th>Packets Bytes</th>\n",
       "      <th>Prot</th>\n",
       "    </tr>\n",
       "  </thead>\n",
       "  <tbody>\n",
       "    <tr>\n",
       "      <td>0</td>\n",
       "      <td>44728.0</td>\n",
       "      <td>4.974</td>\n",
       "      <td>29</td>\n",
       "      <td>1444</td>\n",
       "      <td>4</td>\n",
       "      <td>6</td>\n",
       "    </tr>\n",
       "    <tr>\n",
       "      <td>1</td>\n",
       "      <td>53.0</td>\n",
       "      <td>0.000</td>\n",
       "      <td>16</td>\n",
       "      <td>89</td>\n",
       "      <td>1</td>\n",
       "      <td>7</td>\n",
       "    </tr>\n",
       "    <tr>\n",
       "      <td>2</td>\n",
       "      <td>45035.0</td>\n",
       "      <td>0.000</td>\n",
       "      <td>16</td>\n",
       "      <td>179</td>\n",
       "      <td>1</td>\n",
       "      <td>7</td>\n",
       "    </tr>\n",
       "    <tr>\n",
       "      <td>3</td>\n",
       "      <td>36116.0</td>\n",
       "      <td>0.000</td>\n",
       "      <td>16</td>\n",
       "      <td>71</td>\n",
       "      <td>1</td>\n",
       "      <td>7</td>\n",
       "    </tr>\n",
       "    <tr>\n",
       "      <td>4</td>\n",
       "      <td>13363.0</td>\n",
       "      <td>0.000</td>\n",
       "      <td>16</td>\n",
       "      <td>77</td>\n",
       "      <td>1</td>\n",
       "      <td>7</td>\n",
       "    </tr>\n",
       "  </tbody>\n",
       "</table>\n",
       "</div>"
      ],
      "text/plain": [
       "   Dst IP Addr:Port  Durat  Flags  Flows  Packets Bytes  Prot\n",
       "0           44728.0  4.974     29   1444              4     6\n",
       "1              53.0  0.000     16     89              1     7\n",
       "2           45035.0  0.000     16    179              1     7\n",
       "3           36116.0  0.000     16     71              1     7\n",
       "4           13363.0  0.000     16     77              1     7"
      ]
     },
     "execution_count": 44,
     "metadata": {},
     "output_type": "execute_result"
    }
   ],
   "source": [
    "x_train.head()"
   ]
  },
  {
   "cell_type": "markdown",
   "metadata": {},
   "source": [
    "# ML Model"
   ]
  },
  {
   "cell_type": "code",
   "execution_count": 45,
   "metadata": {},
   "outputs": [],
   "source": [
    "from sklearn.model_selection import train_test_split\n",
    "from sklearn.preprocessing import StandardScaler\n",
    "from sklearn.ensemble import RandomForestClassifier\n",
    "from sklearn.linear_model import LogisticRegression\n",
    "from sklearn.naive_bayes import MultinomialNB, GaussianNB\n",
    "from sklearn.tree import DecisionTreeClassifier\n",
    "from sklearn.metrics import accuracy_score, classification_report"
   ]
  },
  {
   "cell_type": "markdown",
   "metadata": {},
   "source": [
    "# SVM"
   ]
  },
  {
   "cell_type": "code",
   "execution_count": 46,
   "metadata": {},
   "outputs": [
    {
     "data": {
      "text/plain": [
       "[0.001, 0.1, 1, 10, 100, 1000, 10000, 100000, 100000]"
      ]
     },
     "execution_count": 46,
     "metadata": {},
     "output_type": "execute_result"
    }
   ],
   "source": [
    "parameters1 = [0.001,0.1,1, 10, 100, 1000, 10000, 100000, 100000]\n",
    "parameters1"
   ]
  },
  {
   "cell_type": "code",
   "execution_count": 47,
   "metadata": {},
   "outputs": [
    {
     "name": "stdout",
     "output_type": "stream",
     "text": [
      "Support Vector Machine Accuracy Score: 67.0 %\n"
     ]
    }
   ],
   "source": [
    "from sklearn import svm\n",
    "clf = svm.SVC(C = 1 ,kernel='rbf' , gamma = 'scale' )\n",
    "clf.fit(x_train, y_train.to_numpy().ravel()) \n",
    "yhat = clf.predict(x_test)\n",
    "print('Support Vector Machine Accuracy Score:',round(accuracy_score(y_test,yhat)*100),'%')"
   ]
  },
  {
   "cell_type": "code",
   "execution_count": 48,
   "metadata": {},
   "outputs": [],
   "source": [
    "acc_max = 0\n",
    "c_max = 0\n",
    "def best_hyperparameter_svm(parameters):\n",
    "    acc_max = 0\n",
    "    c_max = 0\n",
    "    for i in range(len(parameters)) :\n",
    "        \n",
    "        clf = svm.SVC(C = parameters[i] ,kernel='rbf' , gamma = 'scale' )\n",
    "        clf.fit(x_train, y_train.to_numpy().ravel()) \n",
    "        yhat = clf.predict(x_test)\n",
    "        curr = round( accuracy_score(y_test,yhat)*100 )\n",
    "        if(curr>acc_max):\n",
    "            acc_max = curr\n",
    "            c_max = i\n",
    "    return c_max\n",
    "best = parameters1[best_hyperparameter_svm(parameters1)]"
   ]
  },
  {
   "cell_type": "code",
   "execution_count": 49,
   "metadata": {},
   "outputs": [
    {
     "name": "stdout",
     "output_type": "stream",
     "text": [
      "0.001\n",
      "Support Vector Machine Accuracy Score AFTER Tuning : 75.0 %\n"
     ]
    }
   ],
   "source": [
    "print(best)\n",
    "from sklearn import svm\n",
    "clf = svm.SVC(C = best ,kernel='rbf',gamma = 'scale'  )\n",
    "clf.fit(x_train, y_train.to_numpy().ravel()) \n",
    "yhat = clf.predict(x_test)\n",
    "print('Support Vector Machine Accuracy Score AFTER Tuning :',round(accuracy_score(y_test,yhat)*100),'%')"
   ]
  },
  {
   "cell_type": "code",
   "execution_count": 50,
   "metadata": {},
   "outputs": [],
   "source": [
    "from sklearn.metrics import classification_report, confusion_matrix\n",
    "import itertools"
   ]
  },
  {
   "cell_type": "code",
   "execution_count": 51,
   "metadata": {},
   "outputs": [],
   "source": [
    "def plot_confusion_matrix(cm, classes,\n",
    "                          normalize=False,\n",
    "                          title='Confusion matrix',\n",
    "                          cmap=plt.cm.Blues):\n",
    "    \"\"\"\n",
    "    This function prints and plots the confusion matrix.\n",
    "    Normalization can be applied by setting `normalize=True`.\n",
    "    \"\"\"\n",
    "    if normalize:\n",
    "        cm = cm.astype('float') / cm.sum(axis=1)[:, np.newaxis]\n",
    "        print(\"Normalized confusion matrix\")\n",
    "    else:\n",
    "        print('Confusion matrix, without normalization')\n",
    "\n",
    "    print(cm)\n",
    "\n",
    "    plt.imshow(cm, interpolation='nearest', cmap=cmap)\n",
    "    plt.title(title)\n",
    "    plt.colorbar()\n",
    "    tick_marks = np.arange(len(classes))\n",
    "    plt.xticks(tick_marks, classes, rotation=45)\n",
    "    plt.yticks(tick_marks, classes)\n",
    "\n",
    "    fmt = '.4f' if normalize else 'd'\n",
    "    thresh = cm.max() / 2.\n",
    "    for i, j in itertools.product(range(cm.shape[0]), range(cm.shape[1])):\n",
    "        plt.text(j, i, format(cm[i, j], fmt),\n",
    "                 horizontalalignment=\"center\",\n",
    "                 color=\"black\" )\n",
    "\n",
    "    plt.tight_layout()\n",
    "    plt.ylabel('True label')\n",
    "    plt.xlabel('Predicted label')"
   ]
  },
  {
   "cell_type": "code",
   "execution_count": 52,
   "metadata": {},
   "outputs": [
    {
     "name": "stdout",
     "output_type": "stream",
     "text": [
      "              precision    recall  f1-score   support\n",
      "\n",
      "           0       0.81      0.64      0.72      1295\n",
      "           1       0.71      0.85      0.77      1295\n",
      "\n",
      "    accuracy                           0.75      2590\n",
      "   macro avg       0.76      0.75      0.75      2590\n",
      "weighted avg       0.76      0.75      0.75      2590\n",
      "\n",
      "Confusion matrix, without normalization\n",
      "[[ 834  461]\n",
      " [ 191 1104]]\n"
     ]
    },
    {
     "data": {
      "image/png": "[encoded data removed]",
      "text/plain": [
       "<Figure size 432x288 with 2 Axes>"
      ]
     },
     "metadata": {
      "needs_background": "light"
     },
     "output_type": "display_data"
    }
   ],
   "source": [
    "# Compute confusion matrix\n",
    "cnf_matrix = confusion_matrix(y_test, yhat, labels=[1,0])\n",
    "np.set_printoptions(precision=2)\n",
    "\n",
    "print (classification_report(y_test, yhat))\n",
    "\n",
    "# Plot non-normalized confusion matrix\n",
    "plt.figure()\n",
    "plot_confusion_matrix(cnf_matrix, classes=['Benign(0)','botnet(1)'],normalize= False,  title='Confusion matrix SVM')"
   ]
  },
  {
   "cell_type": "code",
   "execution_count": 53,
   "metadata": {},
   "outputs": [
    {
     "name": "stdout",
     "output_type": "stream",
     "text": [
      "Support Vector Machine Accuracy Score: 75.0 %\n"
     ]
    }
   ],
   "source": [
    "from sklearn.metrics import f1_score\n",
    "f1_score(y_test, yhat, average='weighted') \n",
    "print('Support Vector Machine Accuracy Score:',round(accuracy_score(y_test,yhat)*100),'%')"
   ]
  },
  {
   "cell_type": "markdown",
   "metadata": {},
   "source": [
    "# Logistic Regression"
   ]
  },
  {
   "cell_type": "code",
   "execution_count": 54,
   "metadata": {},
   "outputs": [
    {
     "name": "stdout",
     "output_type": "stream",
     "text": [
      "Logistic Regression Accuracy Score: 76.0 %\n"
     ]
    }
   ],
   "source": [
    "Logistic_model = LogisticRegression(solver = 'liblinear' ,C=1)\n",
    "Logistic_model.fit(x_train,y_train.to_numpy().ravel())\n",
    "prediction_Logistic = Logistic_model.predict(x_test)\n",
    "print('Logistic Regression Accuracy Score:',round(accuracy_score(y_test,prediction_Logistic)*100),'%')"
   ]
  },
  {
   "cell_type": "code",
   "execution_count": 55,
   "metadata": {},
   "outputs": [],
   "source": [
    "acc_max = 0\n",
    "c_max = 0\n",
    "def best_hyperparameter(parameters):\n",
    "    acc_max = 0\n",
    "    c_max = 0\n",
    "    for i in range(len(parameters)) :\n",
    "        Logistic_model = LogisticRegression( solver = 'liblinear' ,C=parameters[i] )\n",
    "        Logistic_model.fit(x_train,y_train.to_numpy().ravel())\n",
    "        prediction_Logistic = Logistic_model.predict(x_test)\n",
    "        curr = round( accuracy_score(y_test,prediction_Logistic)*100 )\n",
    "        if(curr>acc_max):\n",
    "            acc_max = curr\n",
    "            c_max = i\n",
    "    return c_max\n",
    "best = parameters1[best_hyperparameter(parameters1)]"
   ]
  },
  {
   "cell_type": "code",
   "execution_count": 56,
   "metadata": {},
   "outputs": [
    {
     "name": "stdout",
     "output_type": "stream",
     "text": [
      "0.001\n",
      "Logistic Regression Accuracy Score after tuning : 80.0 %\n"
     ]
    }
   ],
   "source": [
    "print(best)\n",
    "Logistic_model = LogisticRegression(solver = 'liblinear' ,C=best)\n",
    "Logistic_model.fit(x_train,y_train.to_numpy().ravel())\n",
    "prediction_Logistic = Logistic_model.predict(x_test)\n",
    "print('Logistic Regression Accuracy Score after tuning :',round(accuracy_score(y_test,prediction_Logistic)*100),'%')"
   ]
  },
  {
   "cell_type": "code",
   "execution_count": 57,
   "metadata": {},
   "outputs": [
    {
     "name": "stdout",
     "output_type": "stream",
     "text": [
      "              precision    recall  f1-score   support\n",
      "\n",
      "           0       0.78      0.85      0.81      1295\n",
      "           1       0.83      0.76      0.80      1295\n",
      "\n",
      "    accuracy                           0.80      2590\n",
      "   macro avg       0.81      0.80      0.80      2590\n",
      "weighted avg       0.81      0.80      0.80      2590\n",
      "\n",
      "Confusion matrix, without normalization\n",
      "[[1095  200]\n",
      " [ 308  987]]\n"
     ]
    },
    {
     "data": {
      "image/png": "[encoded data removed]",
      "text/plain": [
       "<Figure size 432x288 with 2 Axes>"
      ]
     },
     "metadata": {
      "needs_background": "light"
     },
     "output_type": "display_data"
    }
   ],
   "source": [
    "# Compute confusion matrix\n",
    "cnf_matrix = confusion_matrix(y_test, prediction_Logistic, labels=[1,0])\n",
    "np.set_printoptions(precision=2)\n",
    "\n",
    "print (classification_report(y_test, prediction_Logistic))\n",
    "\n",
    "# Plot non-normalized confusion matrix\n",
    "plt.figure()\n",
    "plot_confusion_matrix(cnf_matrix, classes=['Benign(0)','botnet(1)'],normalize= False,  title='Confusion matrix LR' , cmap=plt.cm.OrRd )"
   ]
  },
  {
   "cell_type": "markdown",
   "metadata": {},
   "source": [
    "# XGBOOST"
   ]
  },
  {
   "cell_type": "code",
   "execution_count": 58,
   "metadata": {},
   "outputs": [
    {
     "name": "stderr",
     "output_type": "stream",
     "text": [
      "C:\\Users\\ASUS\\Anaconda3\\lib\\site-packages\\sklearn\\preprocessing\\label.py:219: DataConversionWarning: A column-vector y was passed when a 1d array was expected. Please change the shape of y to (n_samples, ), for example using ravel().\n",
      "  y = column_or_1d(y, warn=True)\n",
      "C:\\Users\\ASUS\\Anaconda3\\lib\\site-packages\\sklearn\\preprocessing\\label.py:252: DataConversionWarning: A column-vector y was passed when a 1d array was expected. Please change the shape of y to (n_samples, ), for example using ravel().\n",
      "  y = column_or_1d(y, warn=True)\n"
     ]
    },
    {
     "name": "stdout",
     "output_type": "stream",
     "text": [
      "XGBoost Accuracy Score after tuning : 83.0 %\n"
     ]
    }
   ],
   "source": [
    "import xgboost as xgb\n",
    "from xgboost import XGBClassifier\n",
    "model=xgb.XGBClassifier(random_state=5 , earning_rate=0.001)\n",
    "model.fit(x_train, y_train)\n",
    "yhat_xg = model.predict(x_test)\n",
    "print('XGBoost Accuracy Score after tuning :',round(accuracy_score(y_test,yhat_xg)*100),'%')"
   ]
  },
  {
   "cell_type": "code",
   "execution_count": 59,
   "metadata": {},
   "outputs": [
    {
     "name": "stdout",
     "output_type": "stream",
     "text": [
      "              precision    recall  f1-score   support\n",
      "\n",
      "           0       0.75      0.99      0.86      1295\n",
      "           1       0.99      0.67      0.80      1295\n",
      "\n",
      "    accuracy                           0.83      2590\n",
      "   macro avg       0.87      0.83      0.83      2590\n",
      "weighted avg       0.87      0.83      0.83      2590\n",
      "\n",
      "Normalized confusion matrix\n",
      "[[0.99 0.01]\n",
      " [0.33 0.67]]\n"
     ]
    },
    {
     "data": {
      "image/png": "[encoded data removed]",
      "text/plain": [
       "<Figure size 432x288 with 2 Axes>"
      ]
     },
     "metadata": {
      "needs_background": "light"
     },
     "output_type": "display_data"
    }
   ],
   "source": [
    "# Compute confusion matrix\n",
    "cnf_matrix = confusion_matrix(y_test, yhat_xg, labels=[1,0])\n",
    "np.set_printoptions(precision=2)\n",
    "\n",
    "print (classification_report(y_test, yhat_xg ))\n",
    "\n",
    "# Plot non-normalized confusion matrix\n",
    "plt.figure()\n",
    "plot_confusion_matrix(cnf_matrix, classes=['Benign(0)','botnet(1)'],normalize= True,  title='Confusion matrix XGBoost' ,cmap=plt.cm.Greens)"
   ]
  },
  {
   "cell_type": "markdown",
   "metadata": {},
   "source": [
    "# Random Forest Classifier\n"
   ]
  },
  {
   "cell_type": "code",
   "execution_count": 60,
   "metadata": {},
   "outputs": [
    {
     "name": "stdout",
     "output_type": "stream",
     "text": [
      "Random Forest Accuracy Score: 88.0 %\n"
     ]
    },
    {
     "name": "stderr",
     "output_type": "stream",
     "text": [
      "C:\\Users\\ASUS\\Anaconda3\\lib\\site-packages\\sklearn\\ensemble\\forest.py:245: FutureWarning: The default value of n_estimators will change from 10 in version 0.20 to 100 in 0.22.\n",
      "  \"10 in version 0.20 to 100 in 0.22.\", FutureWarning)\n"
     ]
    }
   ],
   "source": [
    "Random_forest_model = RandomForestClassifier(class_weight='balanced',max_depth = 4,random_state=4)\n",
    "Random_forest_model.fit(x_train,y_train.to_numpy().ravel())\n",
    "prediction_Random_forest_model = Random_forest_model.predict(x_test)\n",
    "print('Random Forest Accuracy Score:',round(accuracy_score(y_test,prediction_Random_forest_model)*100),'%')"
   ]
  },
  {
   "cell_type": "code",
   "execution_count": 62,
   "metadata": {},
   "outputs": [
    {
     "name": "stdout",
     "output_type": "stream",
     "text": [
      "              precision    recall  f1-score   support\n",
      "\n",
      "           0       0.81      1.00      0.90      1295\n",
      "           1       1.00      0.77      0.87      1295\n",
      "\n",
      "    accuracy                           0.88      2590\n",
      "   macro avg       0.91      0.88      0.88      2590\n",
      "weighted avg       0.91      0.88      0.88      2590\n",
      "\n",
      "Normalized confusion matrix\n",
      "[[0.99 0.01]\n",
      " [0.33 0.67]]\n"
     ]
    },
    {
     "data": {
      "image/png": "[encoded data removed]",
      "text/plain": [
       "<Figure size 432x288 with 2 Axes>"
      ]
     },
     "metadata": {
      "needs_background": "light"
     },
     "output_type": "display_data"
    }
   ],
   "source": [
    "# Compute confusion matrix\n",
    "cnf_matrix = confusion_matrix(y_test, yhat_xg, labels=[1,0])\n",
    "np.set_printoptions(precision=2)\n",
    "\n",
    "print (classification_report(y_test,prediction_Random_forest_model ))\n",
    "\n",
    "# Plot non-normalized confusion matrix\n",
    "plt.figure()\n",
    "plot_confusion_matrix(cnf_matrix, classes=['Benign(0)','botnet(1)'],normalize= True,  title='Confusion matrix Random Forest Classifier' ,cmap=plt.cm.Purples)"
   ]
  },
  {
   "cell_type": "code",
   "execution_count": null,
   "metadata": {},
   "outputs": [],
   "source": []
  }
 ],
 "metadata": {
  "kernelspec": {
   "display_name": "Python 3",
   "language": "python",
   "name": "python3"
  },
  "language_info": {
   "codemirror_mode": {
    "name": "ipython",
    "version": 3
   },
   "file_extension": ".py",
   "mimetype": "text/x-python",
   "name": "python",
   "nbconvert_exporter": "python",
   "pygments_lexer": "ipython3",
   "version": "3.7.4"
  }
 },
 "nbformat": 4,
 "nbformat_minor": 2
}
