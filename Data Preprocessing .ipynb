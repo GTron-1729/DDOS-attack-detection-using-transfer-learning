{
 "cells": [
  {
   "cell_type": "code",
   "execution_count": 3,
   "metadata": {},
   "outputs": [],
   "source": [
    "import pandas as pd\n",
    "import matplotlib.pyplot as plt\n"
   ]
  },
  {
   "cell_type": "code",
   "execution_count": 4,
   "metadata": {},
   "outputs": [],
   "source": [
    "df = pd.read_csv(\"Final_dataset.csv\")\n"
   ]
  },
  {
   "cell_type": "code",
   "execution_count": 5,
   "metadata": {},
   "outputs": [
    {
     "data": {
      "text/html": [
       "<div>\n",
       "<style scoped>\n",
       "    .dataframe tbody tr th:only-of-type {\n",
       "        vertical-align: middle;\n",
       "    }\n",
       "\n",
       "    .dataframe tbody tr th {\n",
       "        vertical-align: top;\n",
       "    }\n",
       "\n",
       "    .dataframe thead th {\n",
       "        text-align: right;\n",
       "    }\n",
       "</style>\n",
       "<table border=\"1\" class=\"dataframe\">\n",
       "  <thead>\n",
       "    <tr style=\"text-align: right;\">\n",
       "      <th></th>\n",
       "      <th>Unnamed: 0</th>\n",
       "      <th>Date flow</th>\n",
       "      <th>Dst IP Addr:Port</th>\n",
       "      <th>Durat</th>\n",
       "      <th>Flags</th>\n",
       "      <th>Flows</th>\n",
       "      <th>Label</th>\n",
       "      <th>Labels</th>\n",
       "      <th>Packets Bytes</th>\n",
       "      <th>Prot</th>\n",
       "      <th>Src IP Addr:Port</th>\n",
       "      <th>Tos</th>\n",
       "      <th>start time</th>\n",
       "    </tr>\n",
       "  </thead>\n",
       "  <tbody>\n",
       "    <tr>\n",
       "      <td>0</td>\n",
       "      <td>0</td>\n",
       "      <td>2011-08-15</td>\n",
       "      <td>205.188.10.203:443</td>\n",
       "      <td>0.000</td>\n",
       "      <td>A_</td>\n",
       "      <td>60</td>\n",
       "      <td>1</td>\n",
       "      <td>LEGITIMATE</td>\n",
       "      <td>1</td>\n",
       "      <td>TCP</td>\n",
       "      <td>147.32.84.134:45266</td>\n",
       "      <td>0</td>\n",
       "      <td>11:00:05.704</td>\n",
       "    </tr>\n",
       "    <tr>\n",
       "      <td>1</td>\n",
       "      <td>1</td>\n",
       "      <td>2011-08-15</td>\n",
       "      <td>147.32.84.118:51463</td>\n",
       "      <td>4.996</td>\n",
       "      <td>PA_</td>\n",
       "      <td>84327</td>\n",
       "      <td>1</td>\n",
       "      <td>Background</td>\n",
       "      <td>58</td>\n",
       "      <td>TCP</td>\n",
       "      <td>62.44.1.18:80</td>\n",
       "      <td>0</td>\n",
       "      <td>11:00:05.704</td>\n",
       "    </tr>\n",
       "    <tr>\n",
       "      <td>2</td>\n",
       "      <td>2</td>\n",
       "      <td>2011-08-15</td>\n",
       "      <td>62.44.1.18:80</td>\n",
       "      <td>4.892</td>\n",
       "      <td>A_</td>\n",
       "      <td>1740</td>\n",
       "      <td>1</td>\n",
       "      <td>Background</td>\n",
       "      <td>29</td>\n",
       "      <td>TCP</td>\n",
       "      <td>147.32.84.118:51463</td>\n",
       "      <td>0</td>\n",
       "      <td>11:00:05.706</td>\n",
       "    </tr>\n",
       "    <tr>\n",
       "      <td>3</td>\n",
       "      <td>3</td>\n",
       "      <td>2011-08-15</td>\n",
       "      <td>147.32.85.103:18006</td>\n",
       "      <td>0.000</td>\n",
       "      <td>INT</td>\n",
       "      <td>175</td>\n",
       "      <td>1</td>\n",
       "      <td>Background</td>\n",
       "      <td>1</td>\n",
       "      <td>UDP</td>\n",
       "      <td>147.32.80.9:53</td>\n",
       "      <td>0</td>\n",
       "      <td>11:00:05.707</td>\n",
       "    </tr>\n",
       "    <tr>\n",
       "      <td>4</td>\n",
       "      <td>4</td>\n",
       "      <td>2011-08-15</td>\n",
       "      <td>147.32.80.9:53</td>\n",
       "      <td>0.000</td>\n",
       "      <td>INT</td>\n",
       "      <td>71</td>\n",
       "      <td>1</td>\n",
       "      <td>Background</td>\n",
       "      <td>1</td>\n",
       "      <td>UDP</td>\n",
       "      <td>147.32.85.103:41094</td>\n",
       "      <td>0</td>\n",
       "      <td>11:00:05.709</td>\n",
       "    </tr>\n",
       "  </tbody>\n",
       "</table>\n",
       "</div>"
      ],
      "text/plain": [
       "   Unnamed: 0   Date flow     Dst IP Addr:Port  Durat Flags  Flows  Label  \\\n",
       "0           0  2011-08-15   205.188.10.203:443  0.000    A_     60      1   \n",
       "1           1  2011-08-15  147.32.84.118:51463  4.996   PA_  84327      1   \n",
       "2           2  2011-08-15        62.44.1.18:80  4.892    A_   1740      1   \n",
       "3           3  2011-08-15  147.32.85.103:18006  0.000   INT    175      1   \n",
       "4           4  2011-08-15       147.32.80.9:53  0.000   INT     71      1   \n",
       "\n",
       "       Labels  Packets Bytes Prot     Src IP Addr:Port  Tos    start time  \n",
       "0  LEGITIMATE              1  TCP  147.32.84.134:45266    0  11:00:05.704  \n",
       "1  Background             58  TCP        62.44.1.18:80    0  11:00:05.704  \n",
       "2  Background             29  TCP  147.32.84.118:51463    0  11:00:05.706  \n",
       "3  Background              1  UDP       147.32.80.9:53    0  11:00:05.707  \n",
       "4  Background              1  UDP  147.32.85.103:41094    0  11:00:05.709  "
      ]
     },
     "execution_count": 5,
     "metadata": {},
     "output_type": "execute_result"
    }
   ],
   "source": [
    "df.head()"
   ]
  },
  {
   "cell_type": "code",
   "execution_count": 6,
   "metadata": {},
   "outputs": [
    {
     "data": {
      "text/plain": [
       "Index(['Unnamed: 0', 'Date flow', 'Dst IP Addr:Port', 'Durat', 'Flags',\n",
       "       'Flows', 'Label', 'Labels', 'Packets Bytes', 'Prot', 'Src IP Addr:Port',\n",
       "       'Tos', 'start time'],\n",
       "      dtype='object')"
      ]
     },
     "execution_count": 6,
     "metadata": {},
     "output_type": "execute_result"
    }
   ],
   "source": [
    "df.columns"
   ]
  },
  {
   "cell_type": "code",
   "execution_count": 7,
   "metadata": {},
   "outputs": [
    {
     "data": {
      "text/html": [
       "<div>\n",
       "<style scoped>\n",
       "    .dataframe tbody tr th:only-of-type {\n",
       "        vertical-align: middle;\n",
       "    }\n",
       "\n",
       "    .dataframe tbody tr th {\n",
       "        vertical-align: top;\n",
       "    }\n",
       "\n",
       "    .dataframe thead th {\n",
       "        text-align: right;\n",
       "    }\n",
       "</style>\n",
       "<table border=\"1\" class=\"dataframe\">\n",
       "  <thead>\n",
       "    <tr style=\"text-align: right;\">\n",
       "      <th></th>\n",
       "      <th>Dst IP Addr:Port</th>\n",
       "      <th>Durat</th>\n",
       "      <th>Flags</th>\n",
       "      <th>Flows</th>\n",
       "      <th>Labels</th>\n",
       "      <th>Packets Bytes</th>\n",
       "      <th>Prot</th>\n",
       "    </tr>\n",
       "  </thead>\n",
       "  <tbody>\n",
       "    <tr>\n",
       "      <td>0</td>\n",
       "      <td>205.188.10.203:443</td>\n",
       "      <td>0.000</td>\n",
       "      <td>A_</td>\n",
       "      <td>60</td>\n",
       "      <td>LEGITIMATE</td>\n",
       "      <td>1</td>\n",
       "      <td>TCP</td>\n",
       "    </tr>\n",
       "    <tr>\n",
       "      <td>1</td>\n",
       "      <td>147.32.84.118:51463</td>\n",
       "      <td>4.996</td>\n",
       "      <td>PA_</td>\n",
       "      <td>84327</td>\n",
       "      <td>Background</td>\n",
       "      <td>58</td>\n",
       "      <td>TCP</td>\n",
       "    </tr>\n",
       "    <tr>\n",
       "      <td>2</td>\n",
       "      <td>62.44.1.18:80</td>\n",
       "      <td>4.892</td>\n",
       "      <td>A_</td>\n",
       "      <td>1740</td>\n",
       "      <td>Background</td>\n",
       "      <td>29</td>\n",
       "      <td>TCP</td>\n",
       "    </tr>\n",
       "    <tr>\n",
       "      <td>3</td>\n",
       "      <td>147.32.85.103:18006</td>\n",
       "      <td>0.000</td>\n",
       "      <td>INT</td>\n",
       "      <td>175</td>\n",
       "      <td>Background</td>\n",
       "      <td>1</td>\n",
       "      <td>UDP</td>\n",
       "    </tr>\n",
       "    <tr>\n",
       "      <td>4</td>\n",
       "      <td>147.32.80.9:53</td>\n",
       "      <td>0.000</td>\n",
       "      <td>INT</td>\n",
       "      <td>71</td>\n",
       "      <td>Background</td>\n",
       "      <td>1</td>\n",
       "      <td>UDP</td>\n",
       "    </tr>\n",
       "  </tbody>\n",
       "</table>\n",
       "</div>"
      ],
      "text/plain": [
       "      Dst IP Addr:Port  Durat Flags  Flows      Labels  Packets Bytes Prot\n",
       "0   205.188.10.203:443  0.000    A_     60  LEGITIMATE              1  TCP\n",
       "1  147.32.84.118:51463  4.996   PA_  84327  Background             58  TCP\n",
       "2        62.44.1.18:80  4.892    A_   1740  Background             29  TCP\n",
       "3  147.32.85.103:18006  0.000   INT    175  Background              1  UDP\n",
       "4       147.32.80.9:53  0.000   INT     71  Background              1  UDP"
      ]
     },
     "execution_count": 7,
     "metadata": {},
     "output_type": "execute_result"
    }
   ],
   "source": [
    "df.drop(labels = [ \"Src IP Addr:Port\" , 'start time' , 'Label' , 'Tos','Unnamed: 0','Date flow'] ,axis = 1 , inplace = True)\n",
    "df.head()"
   ]
  },
  {
   "cell_type": "code",
   "execution_count": 8,
   "metadata": {
    "scrolled": true
   },
   "outputs": [
    {
     "data": {
      "text/plain": [
       "Background    3895469\n",
       "LEGITIMATE     336103\n",
       "Botnet           6472\n",
       "Name: Labels, dtype: int64"
      ]
     },
     "execution_count": 8,
     "metadata": {},
     "output_type": "execute_result"
    }
   ],
   "source": [
    "df['Labels'].value_counts()"
   ]
  },
  {
   "cell_type": "code",
   "execution_count": 9,
   "metadata": {},
   "outputs": [
    {
     "data": {
      "text/html": [
       "<div>\n",
       "<style scoped>\n",
       "    .dataframe tbody tr th:only-of-type {\n",
       "        vertical-align: middle;\n",
       "    }\n",
       "\n",
       "    .dataframe tbody tr th {\n",
       "        vertical-align: top;\n",
       "    }\n",
       "\n",
       "    .dataframe thead th {\n",
       "        text-align: right;\n",
       "    }\n",
       "</style>\n",
       "<table border=\"1\" class=\"dataframe\">\n",
       "  <thead>\n",
       "    <tr style=\"text-align: right;\">\n",
       "      <th></th>\n",
       "      <th>Dst IP Addr:Port</th>\n",
       "      <th>Durat</th>\n",
       "      <th>Flags</th>\n",
       "      <th>Flows</th>\n",
       "      <th>Labels</th>\n",
       "      <th>Packets Bytes</th>\n",
       "      <th>Prot</th>\n",
       "    </tr>\n",
       "  </thead>\n",
       "  <tbody>\n",
       "    <tr>\n",
       "      <td>1812</td>\n",
       "      <td>147.32.84.165:1087</td>\n",
       "      <td>0.000</td>\n",
       "      <td>R_</td>\n",
       "      <td>60</td>\n",
       "      <td>Botnet</td>\n",
       "      <td>1</td>\n",
       "      <td>TCP</td>\n",
       "    </tr>\n",
       "    <tr>\n",
       "      <td>1872</td>\n",
       "      <td>208.73.210.29:80</td>\n",
       "      <td>0.589</td>\n",
       "      <td>SPA_</td>\n",
       "      <td>412</td>\n",
       "      <td>Botnet</td>\n",
       "      <td>5</td>\n",
       "      <td>TCP</td>\n",
       "    </tr>\n",
       "    <tr>\n",
       "      <td>1909</td>\n",
       "      <td>208.73.210.29:80</td>\n",
       "      <td>0.401</td>\n",
       "      <td>_FSPA</td>\n",
       "      <td>1883</td>\n",
       "      <td>Botnet</td>\n",
       "      <td>5</td>\n",
       "      <td>TCP</td>\n",
       "    </tr>\n",
       "    <tr>\n",
       "      <td>10373</td>\n",
       "      <td>147.32.84.165:1089</td>\n",
       "      <td>0.000</td>\n",
       "      <td>R_</td>\n",
       "      <td>60</td>\n",
       "      <td>Botnet</td>\n",
       "      <td>1</td>\n",
       "      <td>TCP</td>\n",
       "    </tr>\n",
       "    <tr>\n",
       "      <td>25537</td>\n",
       "      <td>147.32.84.165:1052</td>\n",
       "      <td>4.867</td>\n",
       "      <td>FA_</td>\n",
       "      <td>300</td>\n",
       "      <td>Botnet</td>\n",
       "      <td>5</td>\n",
       "      <td>TCP</td>\n",
       "    </tr>\n",
       "    <tr>\n",
       "      <td>...</td>\n",
       "      <td>...</td>\n",
       "      <td>...</td>\n",
       "      <td>...</td>\n",
       "      <td>...</td>\n",
       "      <td>...</td>\n",
       "      <td>...</td>\n",
       "      <td>...</td>\n",
       "    </tr>\n",
       "    <tr>\n",
       "      <td>4238039</td>\n",
       "      <td>147.32.96.69</td>\n",
       "      <td>0.000</td>\n",
       "      <td>NaN</td>\n",
       "      <td>1066</td>\n",
       "      <td>Botnet</td>\n",
       "      <td>1</td>\n",
       "      <td>ICMP</td>\n",
       "    </tr>\n",
       "    <tr>\n",
       "      <td>4238040</td>\n",
       "      <td>147.32.96.69</td>\n",
       "      <td>0.000</td>\n",
       "      <td>NaN</td>\n",
       "      <td>1066</td>\n",
       "      <td>Botnet</td>\n",
       "      <td>1</td>\n",
       "      <td>ICMP</td>\n",
       "    </tr>\n",
       "    <tr>\n",
       "      <td>4238041</td>\n",
       "      <td>147.32.96.69</td>\n",
       "      <td>0.000</td>\n",
       "      <td>NaN</td>\n",
       "      <td>1066</td>\n",
       "      <td>Botnet</td>\n",
       "      <td>1</td>\n",
       "      <td>ICMP</td>\n",
       "    </tr>\n",
       "    <tr>\n",
       "      <td>4238042</td>\n",
       "      <td>147.32.96.69</td>\n",
       "      <td>0.000</td>\n",
       "      <td>NaN</td>\n",
       "      <td>1066</td>\n",
       "      <td>Botnet</td>\n",
       "      <td>1</td>\n",
       "      <td>ICMP</td>\n",
       "    </tr>\n",
       "    <tr>\n",
       "      <td>4238043</td>\n",
       "      <td>147.32.96.69</td>\n",
       "      <td>0.000</td>\n",
       "      <td>NaN</td>\n",
       "      <td>1066</td>\n",
       "      <td>Botnet</td>\n",
       "      <td>1</td>\n",
       "      <td>ICMP</td>\n",
       "    </tr>\n",
       "  </tbody>\n",
       "</table>\n",
       "<p>6472 rows × 7 columns</p>\n",
       "</div>"
      ],
      "text/plain": [
       "           Dst IP Addr:Port  Durat  Flags  Flows  Labels  Packets Bytes  Prot\n",
       "1812     147.32.84.165:1087  0.000     R_     60  Botnet              1   TCP\n",
       "1872       208.73.210.29:80  0.589   SPA_    412  Botnet              5   TCP\n",
       "1909       208.73.210.29:80  0.401  _FSPA   1883  Botnet              5   TCP\n",
       "10373    147.32.84.165:1089  0.000     R_     60  Botnet              1   TCP\n",
       "25537    147.32.84.165:1052  4.867    FA_    300  Botnet              5   TCP\n",
       "...                     ...    ...    ...    ...     ...            ...   ...\n",
       "4238039        147.32.96.69  0.000    NaN   1066  Botnet              1  ICMP\n",
       "4238040        147.32.96.69  0.000    NaN   1066  Botnet              1  ICMP\n",
       "4238041        147.32.96.69  0.000    NaN   1066  Botnet              1  ICMP\n",
       "4238042        147.32.96.69  0.000    NaN   1066  Botnet              1  ICMP\n",
       "4238043        147.32.96.69  0.000    NaN   1066  Botnet              1  ICMP\n",
       "\n",
       "[6472 rows x 7 columns]"
      ]
     },
     "execution_count": 9,
     "metadata": {},
     "output_type": "execute_result"
    }
   ],
   "source": [
    "botnet_dataset = df[df['Labels']=='Botnet']\n",
    "botnet_dataset"
   ]
  },
  {
   "cell_type": "code",
   "execution_count": 10,
   "metadata": {},
   "outputs": [],
   "source": [
    "indexnames = df[df['Labels']=='Botnet'].index\n",
    "df.drop(indexnames,inplace = True )"
   ]
  },
  {
   "cell_type": "code",
   "execution_count": 15,
   "metadata": {},
   "outputs": [],
   "source": [
    "df1 = df.head(6472)"
   ]
  },
  {
   "cell_type": "code",
   "execution_count": 16,
   "metadata": {},
   "outputs": [
    {
     "data": {
      "text/html": [
       "<div>\n",
       "<style scoped>\n",
       "    .dataframe tbody tr th:only-of-type {\n",
       "        vertical-align: middle;\n",
       "    }\n",
       "\n",
       "    .dataframe tbody tr th {\n",
       "        vertical-align: top;\n",
       "    }\n",
       "\n",
       "    .dataframe thead th {\n",
       "        text-align: right;\n",
       "    }\n",
       "</style>\n",
       "<table border=\"1\" class=\"dataframe\">\n",
       "  <thead>\n",
       "    <tr style=\"text-align: right;\">\n",
       "      <th></th>\n",
       "      <th>Labels</th>\n",
       "    </tr>\n",
       "  </thead>\n",
       "  <tbody>\n",
       "    <tr>\n",
       "      <td>0</td>\n",
       "      <td>LEGITIMATE</td>\n",
       "    </tr>\n",
       "    <tr>\n",
       "      <td>1</td>\n",
       "      <td>Background</td>\n",
       "    </tr>\n",
       "    <tr>\n",
       "      <td>2</td>\n",
       "      <td>Background</td>\n",
       "    </tr>\n",
       "    <tr>\n",
       "      <td>3</td>\n",
       "      <td>Background</td>\n",
       "    </tr>\n",
       "    <tr>\n",
       "      <td>4</td>\n",
       "      <td>Background</td>\n",
       "    </tr>\n",
       "    <tr>\n",
       "      <td>...</td>\n",
       "      <td>...</td>\n",
       "    </tr>\n",
       "    <tr>\n",
       "      <td>6470</td>\n",
       "      <td>Background</td>\n",
       "    </tr>\n",
       "    <tr>\n",
       "      <td>6471</td>\n",
       "      <td>Background</td>\n",
       "    </tr>\n",
       "    <tr>\n",
       "      <td>6472</td>\n",
       "      <td>Background</td>\n",
       "    </tr>\n",
       "    <tr>\n",
       "      <td>6473</td>\n",
       "      <td>Background</td>\n",
       "    </tr>\n",
       "    <tr>\n",
       "      <td>6474</td>\n",
       "      <td>Background</td>\n",
       "    </tr>\n",
       "  </tbody>\n",
       "</table>\n",
       "<p>6472 rows × 1 columns</p>\n",
       "</div>"
      ],
      "text/plain": [
       "          Labels\n",
       "0     LEGITIMATE\n",
       "1     Background\n",
       "2     Background\n",
       "3     Background\n",
       "4     Background\n",
       "...          ...\n",
       "6470  Background\n",
       "6471  Background\n",
       "6472  Background\n",
       "6473  Background\n",
       "6474  Background\n",
       "\n",
       "[6472 rows x 1 columns]"
      ]
     },
     "execution_count": 16,
     "metadata": {},
     "output_type": "execute_result"
    }
   ],
   "source": [
    "x_bg = df1.loc[:, df1.columns != 'Labels']\n",
    "y_bg = df1.loc[:, df1.columns == 'Labels']\n",
    "y_bg"
   ]
  },
  {
   "cell_type": "code",
   "execution_count": 18,
   "metadata": {},
   "outputs": [],
   "source": [
    "x_botnet = botnet_dataset.loc[:, botnet_dataset.columns != 'Labels']\n",
    "y_botnet = botnet_dataset.loc[:, botnet_dataset.columns == 'Labels']"
   ]
  },
  {
   "cell_type": "code",
   "execution_count": 19,
   "metadata": {},
   "outputs": [
    {
     "name": "stdout",
     "output_type": "stream",
     "text": [
      "(6472, 6) bg (6472, 6)\n"
     ]
    }
   ],
   "source": [
    "print(x_botnet.shape , \"bg\" , x_bg.shape)"
   ]
  },
  {
   "cell_type": "code",
   "execution_count": 32,
   "metadata": {},
   "outputs": [],
   "source": [
    "\n",
    "import numpy as np\n",
    "  \n",
    "y_botnet = np.full((6472 , 1 ) , 1)\n",
    "y_bg = np.full((6472 , 1 ) , 0)"
   ]
  },
  {
   "cell_type": "code",
   "execution_count": 30,
   "metadata": {},
   "outputs": [
    {
     "data": {
      "text/plain": [
       "array([[1],\n",
       "       [1],\n",
       "       [1],\n",
       "       ...,\n",
       "       [1],\n",
       "       [1],\n",
       "       [1]])"
      ]
     },
     "execution_count": 30,
     "metadata": {},
     "output_type": "execute_result"
    }
   ],
   "source": [
    "y_botnet"
   ]
  },
  {
   "cell_type": "code",
   "execution_count": 21,
   "metadata": {},
   "outputs": [
    {
     "name": "stdout",
     "output_type": "stream",
     "text": [
      "[[1]\n",
      " [1]\n",
      " [1]\n",
      " ...\n",
      " [1]\n",
      " [1]\n",
      " [1]]\n",
      "[[0]\n",
      " [0]\n",
      " [0]\n",
      " ...\n",
      " [0]\n",
      " [0]\n",
      " [0]]\n"
     ]
    }
   ],
   "source": [
    "print(y_botnet)\n",
    "print(y_bg)"
   ]
  },
  {
   "cell_type": "code",
   "execution_count": 31,
   "metadata": {},
   "outputs": [
    {
     "data": {
      "text/html": [
       "<div>\n",
       "<style scoped>\n",
       "    .dataframe tbody tr th:only-of-type {\n",
       "        vertical-align: middle;\n",
       "    }\n",
       "\n",
       "    .dataframe tbody tr th {\n",
       "        vertical-align: top;\n",
       "    }\n",
       "\n",
       "    .dataframe thead th {\n",
       "        text-align: right;\n",
       "    }\n",
       "</style>\n",
       "<table border=\"1\" class=\"dataframe\">\n",
       "  <thead>\n",
       "    <tr style=\"text-align: right;\">\n",
       "      <th></th>\n",
       "      <th>0</th>\n",
       "    </tr>\n",
       "  </thead>\n",
       "  <tbody>\n",
       "    <tr>\n",
       "      <td>0</td>\n",
       "      <td>1</td>\n",
       "    </tr>\n",
       "    <tr>\n",
       "      <td>1</td>\n",
       "      <td>1</td>\n",
       "    </tr>\n",
       "    <tr>\n",
       "      <td>2</td>\n",
       "      <td>1</td>\n",
       "    </tr>\n",
       "    <tr>\n",
       "      <td>3</td>\n",
       "      <td>1</td>\n",
       "    </tr>\n",
       "    <tr>\n",
       "      <td>4</td>\n",
       "      <td>1</td>\n",
       "    </tr>\n",
       "  </tbody>\n",
       "</table>\n",
       "</div>"
      ],
      "text/plain": [
       "   0\n",
       "0  1\n",
       "1  1\n",
       "2  1\n",
       "3  1\n",
       "4  1"
      ]
     },
     "execution_count": 31,
     "metadata": {},
     "output_type": "execute_result"
    }
   ],
   "source": [
    "y_botnet = pd.DataFrame( y_botnet.flatten())\n",
    "y_botnet.head()"
   ]
  },
  {
   "cell_type": "code",
   "execution_count": 34,
   "metadata": {},
   "outputs": [
    {
     "name": "stdout",
     "output_type": "stream",
     "text": [
      "      0\n",
      "0     1\n",
      "1     1\n",
      "2     1\n",
      "3     1\n",
      "4     1\n",
      "...  ..\n",
      "6467  1\n",
      "6468  1\n",
      "6469  1\n",
      "6470  1\n",
      "6471  1\n",
      "\n",
      "[6472 rows x 1 columns]\n",
      "      0\n",
      "0     0\n",
      "1     0\n",
      "2     0\n",
      "3     0\n",
      "4     0\n",
      "...  ..\n",
      "6467  0\n",
      "6468  0\n",
      "6469  0\n",
      "6470  0\n",
      "6471  0\n",
      "\n",
      "[6472 rows x 1 columns]\n"
     ]
    }
   ],
   "source": [
    "y_botnet = pd.DataFrame(y_botnet.flatten() )\n",
    "print(y_botnet)\n",
    "y_bg = pd.DataFrame(y_bg.flatten() )\n",
    "print(y_bg)"
   ]
  },
  {
   "cell_type": "code",
   "execution_count": 40,
   "metadata": {},
   "outputs": [
    {
     "name": "stdout",
     "output_type": "stream",
     "text": [
      "      0\n",
      "0     0\n",
      "1     0\n",
      "2     0\n",
      "3     0\n",
      "4     0\n",
      "...  ..\n",
      "6467  0\n",
      "6468  0\n",
      "6469  0\n",
      "6470  0\n",
      "6471  0\n",
      "\n",
      "[6472 rows x 1 columns]\n"
     ]
    }
   ],
   "source": [
    "print(y_bg)"
   ]
  },
  {
   "cell_type": "code",
   "execution_count": 42,
   "metadata": {},
   "outputs": [],
   "source": [
    "from sklearn.model_selection import train_test_split\n",
    "from sklearn.preprocessing import StandardScaler\n",
    "from sklearn.ensemble import RandomForestClassifier\n",
    "from sklearn.linear_model import LogisticRegression\n",
    "from sklearn.naive_bayes import MultinomialNB, GaussianNB\n",
    "from sklearn.tree import DecisionTreeClassifier\n",
    "from sklearn.metrics import accuracy_score, classification_report\n",
    "\n",
    "xtrain_botnet, xtest_botnet, ytrain_botnet, ytest_botnet = train_test_split(x_botnet,y_botnet,test_size=0.2,random_state=45)"
   ]
  },
  {
   "cell_type": "code",
   "execution_count": 43,
   "metadata": {},
   "outputs": [
    {
     "name": "stdout",
     "output_type": "stream",
     "text": [
      "(5177, 6)\n",
      "(5177, 1)\n",
      "(1295, 6)\n",
      "(1295, 1)\n"
     ]
    }
   ],
   "source": [
    "print(xtrain_botnet.shape)\n",
    "print(ytrain_botnet.shape)\n",
    "print(xtest_botnet.shape)\n",
    "print(ytest_botnet.shape)\n"
   ]
  },
  {
   "cell_type": "code",
   "execution_count": 44,
   "metadata": {},
   "outputs": [],
   "source": [
    "xtrain_bg, xtest_bg, ytrain_bg, ytest_bg = train_test_split(x_bg,y_bg,test_size=0.2,random_state=45)"
   ]
  },
  {
   "cell_type": "code",
   "execution_count": 48,
   "metadata": {},
   "outputs": [
    {
     "name": "stdout",
     "output_type": "stream",
     "text": [
      "(5177, 6)\n",
      "(5177, 1)\n",
      "(1295, 6)\n",
      "(1295, 1)\n",
      "(5177, 6)\n",
      "(5177, 1)\n",
      "(1295, 6)\n",
      "(1295, 1)\n"
     ]
    }
   ],
   "source": [
    "print(xtrain_bg.shape)\n",
    "print(ytrain_bg.shape)\n",
    "print(xtest_bg.shape)\n",
    "print(ytest_bg.shape)\n",
    "print(xtrain_botnet.shape)\n",
    "print(ytrain_botnet.shape)\n",
    "print(xtest_botnet.shape)\n",
    "print(ytest_botnet.shape)"
   ]
  },
  {
   "cell_type": "code",
   "execution_count": 46,
   "metadata": {},
   "outputs": [
    {
     "name": "stdout",
     "output_type": "stream",
     "text": [
      "             Dst IP Addr:Port  Durat Flags  Flows  Packets Bytes  Prot\n",
      "171      194.108.204.27:44728  4.974   PA_   1444              4   TCP\n",
      "5028           147.32.80.9:53  0.000   INT     89              1   UDP\n",
      "6071       147.102.3.36:45035  0.000   INT    179              1   UDP\n",
      "3020       24.59.84.197:36116  0.000   INT     71              1   UDP\n",
      "5606      147.32.84.229:13363  0.000   INT     77              1   UDP\n",
      "...                       ...    ...   ...    ...            ...   ...\n",
      "1177319      85.190.0.3:41426  0.000   RA_     60              1   TCP\n",
      "3000282     147.32.84.165:808  0.000    S_     74              1   TCP\n",
      "2933942          147.32.96.69  0.000   ECO   1066              1  ICMP\n",
      "4082604    147.32.84.165:2721  0.000   INT    141              1   UDP\n",
      "3979036       24.71.223.11:25  3.004    S_    124              2   TCP\n",
      "\n",
      "[10354 rows x 6 columns]\n"
     ]
    }
   ],
   "source": [
    "x_train = xtrain_bg.append(xtrain_botnet)\n",
    "print(x_train)\n"
   ]
  },
  {
   "cell_type": "code",
   "execution_count": 49,
   "metadata": {},
   "outputs": [
    {
     "name": "stdout",
     "output_type": "stream",
     "text": [
      "             Dst IP Addr:Port  Durat Flags  Flows  Packets Bytes  Prot\n",
      "171      194.108.204.27:44728  4.974   PA_   1444              4   TCP\n",
      "5028           147.32.80.9:53  0.000   INT     89              1   UDP\n",
      "6071       147.102.3.36:45035  0.000   INT    179              1   UDP\n",
      "3020       24.59.84.197:36116  0.000   INT     71              1   UDP\n",
      "5606      147.32.84.229:13363  0.000   INT     77              1   UDP\n",
      "...                       ...    ...   ...    ...            ...   ...\n",
      "1177319      85.190.0.3:41426  0.000   RA_     60              1   TCP\n",
      "3000282     147.32.84.165:808  0.000    S_     74              1   TCP\n",
      "2933942          147.32.96.69  0.000   ECO   1066              1  ICMP\n",
      "4082604    147.32.84.165:2721  0.000   INT    141              1   UDP\n",
      "3979036       24.71.223.11:25  3.004    S_    124              2   TCP\n",
      "\n",
      "[10354 rows x 6 columns]\n",
      "             Dst IP Addr:Port  Durat  Flags  Flows  Packets Bytes  Prot\n",
      "1539      90.187.47.244:55056  4.150    INT   1178             17   UDP\n",
      "3110           147.32.80.9:53  0.000    INT     78              1   UDP\n",
      "355       147.32.84.229:13363  0.000    INT    113              1   UDP\n",
      "3428     156.56.195.175:65414  0.000    INT    481              1   UDP\n",
      "1255         147.32.84.188:80  2.365  FSPA_    842              7   TCP\n",
      "...                       ...    ...    ...    ...            ...   ...\n",
      "2892643          147.32.96.69  4.048    MAS   6396              6  ICMP\n",
      "3993283     70.182.136.222:25  2.983     S_    124              2   TCP\n",
      "2945178         147.32.84.165  4.984    TSR   9594              9  ICMP\n",
      "2961824          147.32.96.69  3.794    RTA   6396              6  ICMP\n",
      "3739573        65.55.88.22:25  0.000     S_     62              1   TCP\n",
      "\n",
      "[2590 rows x 6 columns]\n"
     ]
    }
   ],
   "source": [
    "x_train = xtrain_bg.append(xtrain_botnet)\n",
    "print(x_train)\n",
    "x_test = xtest_bg.append(xtest_botnet)\n",
    "print(x_test)"
   ]
  },
  {
   "cell_type": "code",
   "execution_count": 51,
   "metadata": {},
   "outputs": [
    {
     "name": "stdout",
     "output_type": "stream",
     "text": [
      "      0\n",
      "171   0\n",
      "5025  0\n",
      "6068  0\n",
      "3017  0\n",
      "5603  0\n",
      "...  ..\n",
      "163   1\n",
      "4703  1\n",
      "3616  1\n",
      "6012  1\n",
      "5763  1\n",
      "\n",
      "[10354 rows x 1 columns]\n",
      "      0\n",
      "1539  0\n",
      "3107  0\n",
      "355   0\n",
      "3425  0\n",
      "1255  0\n",
      "...  ..\n",
      "2945  1\n",
      "5805  1\n",
      "3796  1\n",
      "4053  1\n",
      "5073  1\n",
      "\n",
      "[2590 rows x 1 columns]\n"
     ]
    }
   ],
   "source": [
    "y_train = ytrain_bg.append(ytrain_botnet)\n",
    "print(y_train)\n",
    "y_test = ytest_bg.append(ytest_botnet)\n",
    "print(y_test)"
   ]
  },
  {
   "cell_type": "code",
   "execution_count": 55,
   "metadata": {},
   "outputs": [],
   "source": [
    "x_train.to_csv( \"X_Train_Dataset.csv\")\n",
    "y_train.to_csv( \"Y_Train_Dataset.csv\")\n",
    "x_test.to_csv(  \"X_Test_Dataset.csv\")\n",
    "y_test.to_csv( \"Y_Test_Dataset.csv\")"
   ]
  },
  {
   "cell_type": "code",
   "execution_count": null,
   "metadata": {},
   "outputs": [],
   "source": []
  },
  {
   "cell_type": "markdown",
   "metadata": {},
   "source": [
    "# MODEL"
   ]
  },
  {
   "cell_type": "code",
   "execution_count": 1,
   "metadata": {},
   "outputs": [],
   "source": [
    "import pandas as pd\n"
   ]
  },
  {
   "cell_type": "code",
   "execution_count": 2,
   "metadata": {},
   "outputs": [],
   "source": [
    "x_train = pd.read_csv( \"X_Train_Dataset.csv\")\n",
    "y_train = pd.read_csv( \"Y_Train_Dataset.csv\")\n",
    "x_test = pd.read_csv(  \"X_Test_Dataset.csv\")\n",
    "y_test = pd.read_csv( \"Y_Test_Dataset.csv\")"
   ]
  },
  {
   "cell_type": "code",
   "execution_count": 3,
   "metadata": {},
   "outputs": [
    {
     "name": "stdout",
     "output_type": "stream",
     "text": [
      "(10354, 7)\n",
      "(10354, 2)\n",
      "(2590, 7)\n",
      "(2590, 2)\n"
     ]
    }
   ],
   "source": [
    "print(x_train.shape)\n",
    "print(y_train.shape)\n",
    "print(x_test.shape)\n",
    "print(y_test.shape)"
   ]
  },
  {
   "cell_type": "code",
   "execution_count": 4,
   "metadata": {},
   "outputs": [
    {
     "data": {
      "text/html": [
       "<div>\n",
       "<style scoped>\n",
       "    .dataframe tbody tr th:only-of-type {\n",
       "        vertical-align: middle;\n",
       "    }\n",
       "\n",
       "    .dataframe tbody tr th {\n",
       "        vertical-align: top;\n",
       "    }\n",
       "\n",
       "    .dataframe thead th {\n",
       "        text-align: right;\n",
       "    }\n",
       "</style>\n",
       "<table border=\"1\" class=\"dataframe\">\n",
       "  <thead>\n",
       "    <tr style=\"text-align: right;\">\n",
       "      <th></th>\n",
       "      <th>Unnamed: 0</th>\n",
       "      <th>0</th>\n",
       "    </tr>\n",
       "  </thead>\n",
       "  <tbody>\n",
       "    <tr>\n",
       "      <td>0</td>\n",
       "      <td>171</td>\n",
       "      <td>0</td>\n",
       "    </tr>\n",
       "    <tr>\n",
       "      <td>1</td>\n",
       "      <td>5025</td>\n",
       "      <td>0</td>\n",
       "    </tr>\n",
       "    <tr>\n",
       "      <td>2</td>\n",
       "      <td>6068</td>\n",
       "      <td>0</td>\n",
       "    </tr>\n",
       "    <tr>\n",
       "      <td>3</td>\n",
       "      <td>3017</td>\n",
       "      <td>0</td>\n",
       "    </tr>\n",
       "    <tr>\n",
       "      <td>4</td>\n",
       "      <td>5603</td>\n",
       "      <td>0</td>\n",
       "    </tr>\n",
       "    <tr>\n",
       "      <td>...</td>\n",
       "      <td>...</td>\n",
       "      <td>...</td>\n",
       "    </tr>\n",
       "    <tr>\n",
       "      <td>10349</td>\n",
       "      <td>163</td>\n",
       "      <td>1</td>\n",
       "    </tr>\n",
       "    <tr>\n",
       "      <td>10350</td>\n",
       "      <td>4703</td>\n",
       "      <td>1</td>\n",
       "    </tr>\n",
       "    <tr>\n",
       "      <td>10351</td>\n",
       "      <td>3616</td>\n",
       "      <td>1</td>\n",
       "    </tr>\n",
       "    <tr>\n",
       "      <td>10352</td>\n",
       "      <td>6012</td>\n",
       "      <td>1</td>\n",
       "    </tr>\n",
       "    <tr>\n",
       "      <td>10353</td>\n",
       "      <td>5763</td>\n",
       "      <td>1</td>\n",
       "    </tr>\n",
       "  </tbody>\n",
       "</table>\n",
       "<p>10354 rows × 2 columns</p>\n",
       "</div>"
      ],
      "text/plain": [
       "       Unnamed: 0  0\n",
       "0             171  0\n",
       "1            5025  0\n",
       "2            6068  0\n",
       "3            3017  0\n",
       "4            5603  0\n",
       "...           ... ..\n",
       "10349         163  1\n",
       "10350        4703  1\n",
       "10351        3616  1\n",
       "10352        6012  1\n",
       "10353        5763  1\n",
       "\n",
       "[10354 rows x 2 columns]"
      ]
     },
     "execution_count": 4,
     "metadata": {},
     "output_type": "execute_result"
    }
   ],
   "source": [
    "y_train"
   ]
  },
  {
   "cell_type": "code",
   "execution_count": 5,
   "metadata": {},
   "outputs": [
    {
     "data": {
      "text/html": [
       "<div>\n",
       "<style scoped>\n",
       "    .dataframe tbody tr th:only-of-type {\n",
       "        vertical-align: middle;\n",
       "    }\n",
       "\n",
       "    .dataframe tbody tr th {\n",
       "        vertical-align: top;\n",
       "    }\n",
       "\n",
       "    .dataframe thead th {\n",
       "        text-align: right;\n",
       "    }\n",
       "</style>\n",
       "<table border=\"1\" class=\"dataframe\">\n",
       "  <thead>\n",
       "    <tr style=\"text-align: right;\">\n",
       "      <th></th>\n",
       "      <th>Unnamed: 0</th>\n",
       "      <th>Dst IP Addr:Port</th>\n",
       "      <th>Durat</th>\n",
       "      <th>Flags</th>\n",
       "      <th>Flows</th>\n",
       "      <th>Packets Bytes</th>\n",
       "      <th>Prot</th>\n",
       "    </tr>\n",
       "  </thead>\n",
       "  <tbody>\n",
       "    <tr>\n",
       "      <td>0</td>\n",
       "      <td>171</td>\n",
       "      <td>194.108.204.27:44728</td>\n",
       "      <td>4.974</td>\n",
       "      <td>PA_</td>\n",
       "      <td>1444</td>\n",
       "      <td>4</td>\n",
       "      <td>TCP</td>\n",
       "    </tr>\n",
       "    <tr>\n",
       "      <td>1</td>\n",
       "      <td>5028</td>\n",
       "      <td>147.32.80.9:53</td>\n",
       "      <td>0.000</td>\n",
       "      <td>INT</td>\n",
       "      <td>89</td>\n",
       "      <td>1</td>\n",
       "      <td>UDP</td>\n",
       "    </tr>\n",
       "    <tr>\n",
       "      <td>2</td>\n",
       "      <td>6071</td>\n",
       "      <td>147.102.3.36:45035</td>\n",
       "      <td>0.000</td>\n",
       "      <td>INT</td>\n",
       "      <td>179</td>\n",
       "      <td>1</td>\n",
       "      <td>UDP</td>\n",
       "    </tr>\n",
       "    <tr>\n",
       "      <td>3</td>\n",
       "      <td>3020</td>\n",
       "      <td>24.59.84.197:36116</td>\n",
       "      <td>0.000</td>\n",
       "      <td>INT</td>\n",
       "      <td>71</td>\n",
       "      <td>1</td>\n",
       "      <td>UDP</td>\n",
       "    </tr>\n",
       "    <tr>\n",
       "      <td>4</td>\n",
       "      <td>5606</td>\n",
       "      <td>147.32.84.229:13363</td>\n",
       "      <td>0.000</td>\n",
       "      <td>INT</td>\n",
       "      <td>77</td>\n",
       "      <td>1</td>\n",
       "      <td>UDP</td>\n",
       "    </tr>\n",
       "    <tr>\n",
       "      <td>...</td>\n",
       "      <td>...</td>\n",
       "      <td>...</td>\n",
       "      <td>...</td>\n",
       "      <td>...</td>\n",
       "      <td>...</td>\n",
       "      <td>...</td>\n",
       "      <td>...</td>\n",
       "    </tr>\n",
       "    <tr>\n",
       "      <td>10349</td>\n",
       "      <td>1177319</td>\n",
       "      <td>85.190.0.3:41426</td>\n",
       "      <td>0.000</td>\n",
       "      <td>RA_</td>\n",
       "      <td>60</td>\n",
       "      <td>1</td>\n",
       "      <td>TCP</td>\n",
       "    </tr>\n",
       "    <tr>\n",
       "      <td>10350</td>\n",
       "      <td>3000282</td>\n",
       "      <td>147.32.84.165:808</td>\n",
       "      <td>0.000</td>\n",
       "      <td>S_</td>\n",
       "      <td>74</td>\n",
       "      <td>1</td>\n",
       "      <td>TCP</td>\n",
       "    </tr>\n",
       "    <tr>\n",
       "      <td>10351</td>\n",
       "      <td>2933942</td>\n",
       "      <td>147.32.96.69</td>\n",
       "      <td>0.000</td>\n",
       "      <td>ECO</td>\n",
       "      <td>1066</td>\n",
       "      <td>1</td>\n",
       "      <td>ICMP</td>\n",
       "    </tr>\n",
       "    <tr>\n",
       "      <td>10352</td>\n",
       "      <td>4082604</td>\n",
       "      <td>147.32.84.165:2721</td>\n",
       "      <td>0.000</td>\n",
       "      <td>INT</td>\n",
       "      <td>141</td>\n",
       "      <td>1</td>\n",
       "      <td>UDP</td>\n",
       "    </tr>\n",
       "    <tr>\n",
       "      <td>10353</td>\n",
       "      <td>3979036</td>\n",
       "      <td>24.71.223.11:25</td>\n",
       "      <td>3.004</td>\n",
       "      <td>S_</td>\n",
       "      <td>124</td>\n",
       "      <td>2</td>\n",
       "      <td>TCP</td>\n",
       "    </tr>\n",
       "  </tbody>\n",
       "</table>\n",
       "<p>10354 rows × 7 columns</p>\n",
       "</div>"
      ],
      "text/plain": [
       "       Unnamed: 0      Dst IP Addr:Port  Durat Flags  Flows  Packets Bytes  \\\n",
       "0             171  194.108.204.27:44728  4.974   PA_   1444              4   \n",
       "1            5028        147.32.80.9:53  0.000   INT     89              1   \n",
       "2            6071    147.102.3.36:45035  0.000   INT    179              1   \n",
       "3            3020    24.59.84.197:36116  0.000   INT     71              1   \n",
       "4            5606   147.32.84.229:13363  0.000   INT     77              1   \n",
       "...           ...                   ...    ...   ...    ...            ...   \n",
       "10349     1177319      85.190.0.3:41426  0.000   RA_     60              1   \n",
       "10350     3000282     147.32.84.165:808  0.000    S_     74              1   \n",
       "10351     2933942          147.32.96.69  0.000   ECO   1066              1   \n",
       "10352     4082604    147.32.84.165:2721  0.000   INT    141              1   \n",
       "10353     3979036       24.71.223.11:25  3.004    S_    124              2   \n",
       "\n",
       "       Prot  \n",
       "0       TCP  \n",
       "1       UDP  \n",
       "2       UDP  \n",
       "3       UDP  \n",
       "4       UDP  \n",
       "...     ...  \n",
       "10349   TCP  \n",
       "10350   TCP  \n",
       "10351  ICMP  \n",
       "10352   UDP  \n",
       "10353   TCP  \n",
       "\n",
       "[10354 rows x 7 columns]"
      ]
     },
     "execution_count": 5,
     "metadata": {},
     "output_type": "execute_result"
    }
   ],
   "source": [
    "x_train"
   ]
  },
  {
   "cell_type": "code",
   "execution_count": 6,
   "metadata": {},
   "outputs": [],
   "source": [
    "x_train_1 = x_train.drop(labels = [ \"Dst IP Addr:Port\" , \"Unnamed: 0\"] ,axis = 1 )\n",
    "x_test_1 = x_test.drop(labels = [ \"Dst IP Addr:Port\" , \"Unnamed: 0\"] ,axis = 1 )\n",
    "y_train = y_train.drop(labels = [ \"Unnamed: 0\"] ,axis = 1 )\n",
    "y_test = y_test.drop(labels = [  \"Unnamed: 0\"] ,axis = 1 )"
   ]
  },
  {
   "cell_type": "code",
   "execution_count": 7,
   "metadata": {},
   "outputs": [
    {
     "data": {
      "text/plain": [
       "<bound method NDFrame.describe of 0        PA_\n",
       "1        INT\n",
       "2        INT\n",
       "3        INT\n",
       "4        INT\n",
       "        ... \n",
       "10349    RA_\n",
       "10350     S_\n",
       "10351    ECO\n",
       "10352    INT\n",
       "10353     S_\n",
       "Name: Flags, Length: 10354, dtype: object>"
      ]
     },
     "execution_count": 7,
     "metadata": {},
     "output_type": "execute_result"
    }
   ],
   "source": [
    "x_train_1['Flags'].describe"
   ]
  },
  {
   "cell_type": "code",
   "execution_count": 8,
   "metadata": {},
   "outputs": [
    {
     "data": {
      "text/plain": [
       "array([29, 16,  1, 44, 41,  8, 58,  5,  7, 13, 38, 45, 31, 12, 55, 14, 57,\n",
       "       53, 11,  9, 37, 32, 42,  2, 10,  6, 25, 49, 34, 52, 59, 54, 50, 33,\n",
       "       35, 19, 17, 18, 48, 47, 36, 23,  4, 60, 21, 22, 20, 46,  0, 43, 26,\n",
       "       30, 40, 28,  3, 24, 39, 15, 56, 51, 27], dtype=int64)"
      ]
     },
     "execution_count": 8,
     "metadata": {},
     "output_type": "execute_result"
    }
   ],
   "source": [
    "# Import label encoder \n",
    "from sklearn import preprocessing \n",
    "  \n",
    "# label_encoder object knows how to understand word labels. \n",
    "label_encoder = preprocessing.LabelEncoder() \n",
    "  \n",
    "# Encode labels in column 'species'. \n",
    "x_train_1['Flags']= label_encoder.fit_transform(x_train_1['Flags'].astype(str)) \n",
    "  \n",
    "x_train_1['Flags'].unique() \n",
    "\n"
   ]
  },
  {
   "cell_type": "code",
   "execution_count": 9,
   "metadata": {},
   "outputs": [
    {
     "data": {
      "text/html": [
       "<div>\n",
       "<style scoped>\n",
       "    .dataframe tbody tr th:only-of-type {\n",
       "        vertical-align: middle;\n",
       "    }\n",
       "\n",
       "    .dataframe tbody tr th {\n",
       "        vertical-align: top;\n",
       "    }\n",
       "\n",
       "    .dataframe thead th {\n",
       "        text-align: right;\n",
       "    }\n",
       "</style>\n",
       "<table border=\"1\" class=\"dataframe\">\n",
       "  <thead>\n",
       "    <tr style=\"text-align: right;\">\n",
       "      <th></th>\n",
       "      <th>Durat</th>\n",
       "      <th>Flags</th>\n",
       "      <th>Flows</th>\n",
       "      <th>Packets Bytes</th>\n",
       "      <th>Prot</th>\n",
       "    </tr>\n",
       "  </thead>\n",
       "  <tbody>\n",
       "    <tr>\n",
       "      <td>0</td>\n",
       "      <td>4.974</td>\n",
       "      <td>29</td>\n",
       "      <td>1444</td>\n",
       "      <td>4</td>\n",
       "      <td>TCP</td>\n",
       "    </tr>\n",
       "    <tr>\n",
       "      <td>1</td>\n",
       "      <td>0.000</td>\n",
       "      <td>16</td>\n",
       "      <td>89</td>\n",
       "      <td>1</td>\n",
       "      <td>UDP</td>\n",
       "    </tr>\n",
       "    <tr>\n",
       "      <td>2</td>\n",
       "      <td>0.000</td>\n",
       "      <td>16</td>\n",
       "      <td>179</td>\n",
       "      <td>1</td>\n",
       "      <td>UDP</td>\n",
       "    </tr>\n",
       "    <tr>\n",
       "      <td>3</td>\n",
       "      <td>0.000</td>\n",
       "      <td>16</td>\n",
       "      <td>71</td>\n",
       "      <td>1</td>\n",
       "      <td>UDP</td>\n",
       "    </tr>\n",
       "    <tr>\n",
       "      <td>4</td>\n",
       "      <td>0.000</td>\n",
       "      <td>16</td>\n",
       "      <td>77</td>\n",
       "      <td>1</td>\n",
       "      <td>UDP</td>\n",
       "    </tr>\n",
       "    <tr>\n",
       "      <td>...</td>\n",
       "      <td>...</td>\n",
       "      <td>...</td>\n",
       "      <td>...</td>\n",
       "      <td>...</td>\n",
       "      <td>...</td>\n",
       "    </tr>\n",
       "    <tr>\n",
       "      <td>10349</td>\n",
       "      <td>0.000</td>\n",
       "      <td>31</td>\n",
       "      <td>60</td>\n",
       "      <td>1</td>\n",
       "      <td>TCP</td>\n",
       "    </tr>\n",
       "    <tr>\n",
       "      <td>10350</td>\n",
       "      <td>0.000</td>\n",
       "      <td>45</td>\n",
       "      <td>74</td>\n",
       "      <td>1</td>\n",
       "      <td>TCP</td>\n",
       "    </tr>\n",
       "    <tr>\n",
       "      <td>10351</td>\n",
       "      <td>0.000</td>\n",
       "      <td>5</td>\n",
       "      <td>1066</td>\n",
       "      <td>1</td>\n",
       "      <td>ICMP</td>\n",
       "    </tr>\n",
       "    <tr>\n",
       "      <td>10352</td>\n",
       "      <td>0.000</td>\n",
       "      <td>16</td>\n",
       "      <td>141</td>\n",
       "      <td>1</td>\n",
       "      <td>UDP</td>\n",
       "    </tr>\n",
       "    <tr>\n",
       "      <td>10353</td>\n",
       "      <td>3.004</td>\n",
       "      <td>45</td>\n",
       "      <td>124</td>\n",
       "      <td>2</td>\n",
       "      <td>TCP</td>\n",
       "    </tr>\n",
       "  </tbody>\n",
       "</table>\n",
       "<p>10354 rows × 5 columns</p>\n",
       "</div>"
      ],
      "text/plain": [
       "       Durat  Flags  Flows  Packets Bytes  Prot\n",
       "0      4.974     29   1444              4   TCP\n",
       "1      0.000     16     89              1   UDP\n",
       "2      0.000     16    179              1   UDP\n",
       "3      0.000     16     71              1   UDP\n",
       "4      0.000     16     77              1   UDP\n",
       "...      ...    ...    ...            ...   ...\n",
       "10349  0.000     31     60              1   TCP\n",
       "10350  0.000     45     74              1   TCP\n",
       "10351  0.000      5   1066              1  ICMP\n",
       "10352  0.000     16    141              1   UDP\n",
       "10353  3.004     45    124              2   TCP\n",
       "\n",
       "[10354 rows x 5 columns]"
      ]
     },
     "execution_count": 9,
     "metadata": {},
     "output_type": "execute_result"
    }
   ],
   "source": [
    "x_train_1"
   ]
  },
  {
   "cell_type": "code",
   "execution_count": 10,
   "metadata": {},
   "outputs": [
    {
     "data": {
      "text/plain": [
       "array([6, 7, 2, 0, 5, 4, 3, 1], dtype=int64)"
      ]
     },
     "execution_count": 10,
     "metadata": {},
     "output_type": "execute_result"
    }
   ],
   "source": [
    "x_train_1['Prot']= label_encoder.fit_transform(x_train_1['Prot'].astype(str)) \n",
    "  \n",
    "x_train_1['Prot'].unique() \n"
   ]
  },
  {
   "cell_type": "code",
   "execution_count": 11,
   "metadata": {},
   "outputs": [
    {
     "data": {
      "text/plain": [
       "array([5, 4, 1, 3, 2, 0], dtype=int64)"
      ]
     },
     "execution_count": 11,
     "metadata": {},
     "output_type": "execute_result"
    }
   ],
   "source": [
    "x_test_1['Flags']= label_encoder.fit_transform(x_test_1['Flags'].astype(str)) \n",
    "  \n",
    "x_test_1['Flags'].unique() \n",
    "\n",
    "x_test_1['Prot']= label_encoder.fit_transform(x_test_1['Prot'].astype(str)) \n",
    "  \n",
    "x_test_1['Prot'].unique() "
   ]
  },
  {
   "cell_type": "code",
   "execution_count": 12,
   "metadata": {},
   "outputs": [],
   "source": [
    "from sklearn.model_selection import train_test_split\n",
    "from sklearn.preprocessing import StandardScaler\n",
    "from sklearn.ensemble import RandomForestClassifier\n",
    "from sklearn.linear_model import LogisticRegression\n",
    "from sklearn.naive_bayes import MultinomialNB, GaussianNB\n",
    "from sklearn.tree import DecisionTreeClassifier\n",
    "from sklearn.metrics import accuracy_score, classification_report"
   ]
  },
  {
   "cell_type": "code",
   "execution_count": 13,
   "metadata": {},
   "outputs": [
    {
     "name": "stdout",
     "output_type": "stream",
     "text": [
      "Decision Accuracy Score: 72.0 %\n"
     ]
    }
   ],
   "source": [
    "descision_tree_model = DecisionTreeClassifier()\n",
    "descision_tree_model.fit(x_train_1,y_train)\n",
    "prediction = descision_tree_model.predict(x_test_1)\n",
    "print('Decision Accuracy Score:',round(accuracy_score(y_test,prediction)*100),'%')"
   ]
  },
  {
   "cell_type": "code",
   "execution_count": 14,
   "metadata": {},
   "outputs": [
    {
     "name": "stdout",
     "output_type": "stream",
     "text": [
      "Naive Bayes Accuracy Score: 49.0 %\n"
     ]
    },
    {
     "name": "stderr",
     "output_type": "stream",
     "text": [
      "C:\\Users\\ASUS\\Anaconda3\\lib\\site-packages\\sklearn\\utils\\validation.py:724: DataConversionWarning: A column-vector y was passed when a 1d array was expected. Please change the shape of y to (n_samples, ), for example using ravel().\n",
      "  y = column_or_1d(y, warn=True)\n"
     ]
    }
   ],
   "source": [
    "multinomial_naive_bayes = GaussianNB()\n",
    "multinomial_naive_bayes.fit(x_train_1,y_train)\n",
    "prediction_naive = multinomial_naive_bayes.predict(x_test_1)\n",
    "print('Naive Bayes Accuracy Score:',round(accuracy_score(y_test,prediction_naive)*100),'%')"
   ]
  },
  {
   "cell_type": "code",
   "execution_count": 31,
   "metadata": {},
   "outputs": [
    {
     "ename": "AttributeError",
     "evalue": "'DataFrame' object has no attribute 'ravel'",
     "output_type": "error",
     "traceback": [
      "\u001b[1;31m---------------------------------------------------------------------------\u001b[0m",
      "\u001b[1;31mAttributeError\u001b[0m                            Traceback (most recent call last)",
      "\u001b[1;32m<ipython-input-31-df583909f189>\u001b[0m in \u001b[0;36m<module>\u001b[1;34m\u001b[0m\n\u001b[0;32m      1\u001b[0m \u001b[0mRandom_forest_model\u001b[0m \u001b[1;33m=\u001b[0m \u001b[0mRandomForestClassifier\u001b[0m\u001b[1;33m(\u001b[0m\u001b[0mclass_weight\u001b[0m\u001b[1;33m=\u001b[0m\u001b[1;34m'balanced'\u001b[0m\u001b[1;33m)\u001b[0m\u001b[1;33m\u001b[0m\u001b[1;33m\u001b[0m\u001b[0m\n\u001b[1;32m----> 2\u001b[1;33m \u001b[0mRandom_forest_model\u001b[0m\u001b[1;33m.\u001b[0m\u001b[0mfit\u001b[0m\u001b[1;33m(\u001b[0m\u001b[0mx_train_1\u001b[0m\u001b[1;33m,\u001b[0m\u001b[0my_train\u001b[0m\u001b[1;33m.\u001b[0m\u001b[0mravel\u001b[0m\u001b[1;33m(\u001b[0m\u001b[1;33m)\u001b[0m\u001b[1;33m)\u001b[0m\u001b[1;33m\u001b[0m\u001b[1;33m\u001b[0m\u001b[0m\n\u001b[0m\u001b[0;32m      3\u001b[0m \u001b[0mprediction_Random_forest_model\u001b[0m \u001b[1;33m=\u001b[0m \u001b[0mRandom_forest_model\u001b[0m\u001b[1;33m.\u001b[0m\u001b[0mpredict\u001b[0m\u001b[1;33m(\u001b[0m\u001b[0mx_test_1\u001b[0m\u001b[1;33m)\u001b[0m\u001b[1;33m\u001b[0m\u001b[1;33m\u001b[0m\u001b[0m\n\u001b[0;32m      4\u001b[0m \u001b[0mprint\u001b[0m\u001b[1;33m(\u001b[0m\u001b[1;34m'Random Forest Accuracy Score:'\u001b[0m\u001b[1;33m,\u001b[0m\u001b[0mround\u001b[0m\u001b[1;33m(\u001b[0m\u001b[0maccuracy_score\u001b[0m\u001b[1;33m(\u001b[0m\u001b[0my_test\u001b[0m\u001b[1;33m.\u001b[0m\u001b[0mravel\u001b[0m\u001b[1;33m(\u001b[0m\u001b[1;33m)\u001b[0m\u001b[1;33m,\u001b[0m\u001b[0mprediction_Random_forest_model\u001b[0m\u001b[1;33m)\u001b[0m\u001b[1;33m*\u001b[0m\u001b[1;36m100\u001b[0m\u001b[1;33m)\u001b[0m\u001b[1;33m,\u001b[0m\u001b[1;34m'%'\u001b[0m\u001b[1;33m)\u001b[0m\u001b[1;33m\u001b[0m\u001b[1;33m\u001b[0m\u001b[0m\n",
      "\u001b[1;32m~\\Anaconda3\\lib\\site-packages\\pandas\\core\\generic.py\u001b[0m in \u001b[0;36m__getattr__\u001b[1;34m(self, name)\u001b[0m\n\u001b[0;32m   5177\u001b[0m             \u001b[1;32mif\u001b[0m \u001b[0mself\u001b[0m\u001b[1;33m.\u001b[0m\u001b[0m_info_axis\u001b[0m\u001b[1;33m.\u001b[0m\u001b[0m_can_hold_identifiers_and_holds_name\u001b[0m\u001b[1;33m(\u001b[0m\u001b[0mname\u001b[0m\u001b[1;33m)\u001b[0m\u001b[1;33m:\u001b[0m\u001b[1;33m\u001b[0m\u001b[1;33m\u001b[0m\u001b[0m\n\u001b[0;32m   5178\u001b[0m                 \u001b[1;32mreturn\u001b[0m \u001b[0mself\u001b[0m\u001b[1;33m[\u001b[0m\u001b[0mname\u001b[0m\u001b[1;33m]\u001b[0m\u001b[1;33m\u001b[0m\u001b[1;33m\u001b[0m\u001b[0m\n\u001b[1;32m-> 5179\u001b[1;33m             \u001b[1;32mreturn\u001b[0m \u001b[0mobject\u001b[0m\u001b[1;33m.\u001b[0m\u001b[0m__getattribute__\u001b[0m\u001b[1;33m(\u001b[0m\u001b[0mself\u001b[0m\u001b[1;33m,\u001b[0m \u001b[0mname\u001b[0m\u001b[1;33m)\u001b[0m\u001b[1;33m\u001b[0m\u001b[1;33m\u001b[0m\u001b[0m\n\u001b[0m\u001b[0;32m   5180\u001b[0m \u001b[1;33m\u001b[0m\u001b[0m\n\u001b[0;32m   5181\u001b[0m     \u001b[1;32mdef\u001b[0m \u001b[0m__setattr__\u001b[0m\u001b[1;33m(\u001b[0m\u001b[0mself\u001b[0m\u001b[1;33m,\u001b[0m \u001b[0mname\u001b[0m\u001b[1;33m,\u001b[0m \u001b[0mvalue\u001b[0m\u001b[1;33m)\u001b[0m\u001b[1;33m:\u001b[0m\u001b[1;33m\u001b[0m\u001b[1;33m\u001b[0m\u001b[0m\n",
      "\u001b[1;31mAttributeError\u001b[0m: 'DataFrame' object has no attribute 'ravel'"
     ]
    }
   ],
   "source": [
    "Random_forest_model = RandomForestClassifier(class_weight='balanced')\n",
    "Random_forest_model.fit(x_train_1,y_train.ravel())\n",
    "prediction_Random_forest_model = Random_forest_model.predict(x_test_1)\n",
    "print('Random Forest Accuracy Score:',round(accuracy_score(y_test.ravel(),prediction_Random_forest_model)*100),'%')"
   ]
  },
  {
   "cell_type": "code",
   "execution_count": null,
   "metadata": {},
   "outputs": [],
   "source": [
    "from sklearn.svm import SVC\n",
    "svm = SVC(kernel='radial')\n",
    "svm.fit(x_train_1 , y_train.to_numpy().ravel())\n",
    "svm_predict = svm.predict(x_test_1)\n",
    "print('support vector  Score:',round(accuracy_score(y_test.to_numpy().ravel(),svm_predict)*100),'%')"
   ]
  },
  {
   "cell_type": "code",
   "execution_count": 16,
   "metadata": {},
   "outputs": [
    {
     "name": "stderr",
     "output_type": "stream",
     "text": [
      "C:\\Users\\ASUS\\Anaconda3\\lib\\site-packages\\sklearn\\linear_model\\logistic.py:432: FutureWarning: Default solver will be changed to 'lbfgs' in 0.22. Specify a solver to silence this warning.\n",
      "  FutureWarning)\n",
      "C:\\Users\\ASUS\\Anaconda3\\lib\\site-packages\\sklearn\\utils\\validation.py:724: DataConversionWarning: A column-vector y was passed when a 1d array was expected. Please change the shape of y to (n_samples, ), for example using ravel().\n",
      "  y = column_or_1d(y, warn=True)\n"
     ]
    },
    {
     "name": "stdout",
     "output_type": "stream",
     "text": [
      "Logistic Regression Accuracy Score: 71.0 %\n"
     ]
    }
   ],
   "source": [
    "Logistic_model = LogisticRegression(C=1000)\n",
    "Logistic_model.fit(x_train_1,y_train)\n",
    "prediction_Logistic = Logistic_model.predict(x_test_1)\n",
    "print('Logistic Regression Accuracy Score:',round(accuracy_score(y_test,prediction_Logistic)*100),'%')"
   ]
  },
  {
   "cell_type": "code",
   "execution_count": null,
   "metadata": {},
   "outputs": [],
   "source": []
  }
 ],
 "metadata": {
  "kernelspec": {
   "display_name": "Python 3",
   "language": "python",
   "name": "python3"
  },
  "language_info": {
   "codemirror_mode": {
    "name": "ipython",
    "version": 3
   },
   "file_extension": ".py",
   "mimetype": "text/x-python",
   "name": "python",
   "nbconvert_exporter": "python",
   "pygments_lexer": "ipython3",
   "version": "3.7.4"
  }
 },
 "nbformat": 4,
 "nbformat_minor": 2
}
