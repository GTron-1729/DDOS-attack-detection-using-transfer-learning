{
 "cells": [
  {
   "cell_type": "code",
   "execution_count": 202,
   "metadata": {},
   "outputs": [],
   "source": [
    "import numpy as np\n",
    "import pandas as pd\n",
    "import matplotlib.pyplot as plt\n",
    "import tensorflow as tf\n",
    "from tensorflow.keras.models import Sequential \n",
    "from tensorflow.keras.layers import Dense,Flatten, Dropout\n",
    "from sklearn.preprocessing import LabelEncoder, OneHotEncoder,normalize\n"
   ]
  },
  {
   "cell_type": "markdown",
   "metadata": {},
   "source": [
    "# Preparing the Dataset"
   ]
  },
  {
   "cell_type": "code",
   "execution_count": 235,
   "metadata": {},
   "outputs": [],
   "source": [
    "x_train = pd.read_csv('X_Train_Dataset.csv')\n",
    "y_train = pd.read_csv('Y_Train_Dataset.csv')"
   ]
  },
  {
   "cell_type": "code",
   "execution_count": 236,
   "metadata": {},
   "outputs": [
    {
     "data": {
      "text/html": [
       "<div>\n",
       "<style scoped>\n",
       "    .dataframe tbody tr th:only-of-type {\n",
       "        vertical-align: middle;\n",
       "    }\n",
       "\n",
       "    .dataframe tbody tr th {\n",
       "        vertical-align: top;\n",
       "    }\n",
       "\n",
       "    .dataframe thead th {\n",
       "        text-align: right;\n",
       "    }\n",
       "</style>\n",
       "<table border=\"1\" class=\"dataframe\">\n",
       "  <thead>\n",
       "    <tr style=\"text-align: right;\">\n",
       "      <th></th>\n",
       "      <th>Unnamed: 0</th>\n",
       "      <th>0</th>\n",
       "    </tr>\n",
       "  </thead>\n",
       "  <tbody>\n",
       "    <tr>\n",
       "      <th>0</th>\n",
       "      <td>171</td>\n",
       "      <td>0</td>\n",
       "    </tr>\n",
       "    <tr>\n",
       "      <th>1</th>\n",
       "      <td>5025</td>\n",
       "      <td>0</td>\n",
       "    </tr>\n",
       "    <tr>\n",
       "      <th>2</th>\n",
       "      <td>6068</td>\n",
       "      <td>0</td>\n",
       "    </tr>\n",
       "    <tr>\n",
       "      <th>3</th>\n",
       "      <td>3017</td>\n",
       "      <td>0</td>\n",
       "    </tr>\n",
       "    <tr>\n",
       "      <th>4</th>\n",
       "      <td>5603</td>\n",
       "      <td>0</td>\n",
       "    </tr>\n",
       "  </tbody>\n",
       "</table>\n",
       "</div>"
      ],
      "text/plain": [
       "   Unnamed: 0  0\n",
       "0         171  0\n",
       "1        5025  0\n",
       "2        6068  0\n",
       "3        3017  0\n",
       "4        5603  0"
      ]
     },
     "execution_count": 236,
     "metadata": {},
     "output_type": "execute_result"
    }
   ],
   "source": [
    "y_train.head()"
   ]
  },
  {
   "cell_type": "code",
   "execution_count": 237,
   "metadata": {},
   "outputs": [],
   "source": [
    "x_train.drop(['Unnamed: 0','Flags'],axis=1, inplace=True)\n",
    "y_train.drop('Unnamed: 0',axis=1, inplace=True)\n"
   ]
  },
  {
   "cell_type": "code",
   "execution_count": 238,
   "metadata": {},
   "outputs": [
    {
     "data": {
      "text/html": [
       "<div>\n",
       "<style scoped>\n",
       "    .dataframe tbody tr th:only-of-type {\n",
       "        vertical-align: middle;\n",
       "    }\n",
       "\n",
       "    .dataframe tbody tr th {\n",
       "        vertical-align: top;\n",
       "    }\n",
       "\n",
       "    .dataframe thead th {\n",
       "        text-align: right;\n",
       "    }\n",
       "</style>\n",
       "<table border=\"1\" class=\"dataframe\">\n",
       "  <thead>\n",
       "    <tr style=\"text-align: right;\">\n",
       "      <th></th>\n",
       "      <th>Durat</th>\n",
       "      <th>Flows</th>\n",
       "      <th>Packets Bytes</th>\n",
       "      <th>Prot</th>\n",
       "      <th>Port</th>\n",
       "    </tr>\n",
       "  </thead>\n",
       "  <tbody>\n",
       "    <tr>\n",
       "      <th>0</th>\n",
       "      <td>4.974</td>\n",
       "      <td>1444</td>\n",
       "      <td>4</td>\n",
       "      <td>TCP</td>\n",
       "      <td>0</td>\n",
       "    </tr>\n",
       "    <tr>\n",
       "      <th>1</th>\n",
       "      <td>0.000</td>\n",
       "      <td>89</td>\n",
       "      <td>1</td>\n",
       "      <td>UDP</td>\n",
       "      <td>0</td>\n",
       "    </tr>\n",
       "    <tr>\n",
       "      <th>2</th>\n",
       "      <td>0.000</td>\n",
       "      <td>179</td>\n",
       "      <td>1</td>\n",
       "      <td>UDP</td>\n",
       "      <td>0</td>\n",
       "    </tr>\n",
       "    <tr>\n",
       "      <th>3</th>\n",
       "      <td>0.000</td>\n",
       "      <td>71</td>\n",
       "      <td>1</td>\n",
       "      <td>UDP</td>\n",
       "      <td>25</td>\n",
       "    </tr>\n",
       "    <tr>\n",
       "      <th>4</th>\n",
       "      <td>0.000</td>\n",
       "      <td>77</td>\n",
       "      <td>1</td>\n",
       "      <td>UDP</td>\n",
       "      <td>1039</td>\n",
       "    </tr>\n",
       "  </tbody>\n",
       "</table>\n",
       "</div>"
      ],
      "text/plain": [
       "   Durat  Flows  Packets Bytes Prot  Port\n",
       "0  4.974   1444              4  TCP     0\n",
       "1  0.000     89              1  UDP     0\n",
       "2  0.000    179              1  UDP     0\n",
       "3  0.000     71              1  UDP    25\n",
       "4  0.000     77              1  UDP  1039"
      ]
     },
     "execution_count": 238,
     "metadata": {},
     "output_type": "execute_result"
    }
   ],
   "source": [
    "x_train.head()"
   ]
  },
  {
   "cell_type": "code",
   "execution_count": null,
   "metadata": {},
   "outputs": [],
   "source": []
  },
  {
   "cell_type": "code",
   "execution_count": 239,
   "metadata": {},
   "outputs": [
    {
     "name": "stderr",
     "output_type": "stream",
     "text": [
      "C:\\Users\\Admin\\Anaconda3\\lib\\site-packages\\sklearn\\preprocessing\\label.py:235: DataConversionWarning: A column-vector y was passed when a 1d array was expected. Please change the shape of y to (n_samples, ), for example using ravel().\n",
      "  y = column_or_1d(y, warn=True)\n"
     ]
    }
   ],
   "source": [
    "le = LabelEncoder()\n",
    "y_train= le.fit_transform(y_train)\n",
    "x_train['Prot']= le.fit_transform(x_train['Prot'])"
   ]
  },
  {
   "cell_type": "code",
   "execution_count": 241,
   "metadata": {},
   "outputs": [],
   "source": [
    "x_train.drop('Flows',axis=1,inplace=True)"
   ]
  },
  {
   "cell_type": "code",
   "execution_count": 242,
   "metadata": {},
   "outputs": [
    {
     "name": "stderr",
     "output_type": "stream",
     "text": [
      "C:\\Users\\Admin\\Anaconda3\\lib\\site-packages\\sklearn\\preprocessing\\_encoders.py:415: FutureWarning: The handling of integer data will change in version 0.22. Currently, the categories are determined based on the range [0, max(values)], while in the future they will be determined based on the unique values.\n",
      "If you want the future behaviour and silence this warning, you can specify \"categories='auto'\".\n",
      "In case you used a LabelEncoder before this OneHotEncoder to convert the categories to integers, then you can now use the OneHotEncoder directly.\n",
      "  warnings.warn(msg, FutureWarning)\n"
     ]
    }
   ],
   "source": [
    "ohe = OneHotEncoder(categorical_features=[3])\n",
    "p = ohe.fit_transform(x_train).toarray()"
   ]
  },
  {
   "cell_type": "code",
   "execution_count": 243,
   "metadata": {},
   "outputs": [],
   "source": [
    "x_train = p"
   ]
  },
  {
   "cell_type": "code",
   "execution_count": 244,
   "metadata": {},
   "outputs": [
    {
     "data": {
      "text/plain": [
       "1"
      ]
     },
     "execution_count": 244,
     "metadata": {},
     "output_type": "execute_result"
    }
   ],
   "source": [
    "y_train.max()"
   ]
  },
  {
   "cell_type": "code",
   "execution_count": null,
   "metadata": {},
   "outputs": [],
   "source": []
  },
  {
   "cell_type": "markdown",
   "metadata": {},
   "source": [
    "# Building the Model"
   ]
  },
  {
   "cell_type": "code",
   "execution_count": 253,
   "metadata": {},
   "outputs": [],
   "source": [
    "model = Sequential()\n",
    "model.add(Dense(12,activation='relu'))\n",
    "model.add(Dense(12,activation='relu'))\n",
    "model.add(Dropout(0.2))\n",
    "model.add(Dense(12,activation='relu'))\n",
    "model.add(Dense(1,activation='sigmoid'))\n",
    "model.compile(optimizer='adam',loss='binary_crossentropy',metrics=['accuracy'])"
   ]
  },
  {
   "cell_type": "code",
   "execution_count": 255,
   "metadata": {},
   "outputs": [
    {
     "name": "stdout",
     "output_type": "stream",
     "text": [
      "Train on 10354 samples\n",
      "Epoch 1/20\n",
      "10354/10354 [==============================] - 1s 128us/sample - loss: 0.2860 - accuracy: 0.8705\n",
      "Epoch 2/20\n",
      "10354/10354 [==============================] - 1s 130us/sample - loss: 0.2809 - accuracy: 0.8717\n",
      "Epoch 3/20\n",
      "10354/10354 [==============================] - 1s 129us/sample - loss: 0.2808 - accuracy: 0.8734\n",
      "Epoch 4/20\n",
      "10354/10354 [==============================] - 1s 127us/sample - loss: 0.2775 - accuracy: 0.8726\n",
      "Epoch 5/20\n",
      "10354/10354 [==============================] - 1s 128us/sample - loss: 0.2744 - accuracy: 0.8742\n",
      "Epoch 6/20\n",
      "10354/10354 [==============================] - 1s 128us/sample - loss: 0.2747 - accuracy: 0.8737\n",
      "Epoch 7/20\n",
      "10354/10354 [==============================] - 1s 135us/sample - loss: 0.2732 - accuracy: 0.8736\n",
      "Epoch 8/20\n",
      "10354/10354 [==============================] - 1s 133us/sample - loss: 0.2728 - accuracy: 0.8759\n",
      "Epoch 9/20\n",
      "10354/10354 [==============================] - 1s 128us/sample - loss: 0.2697 - accuracy: 0.8739\n",
      "Epoch 10/20\n",
      "10354/10354 [==============================] - 1s 129us/sample - loss: 0.2657 - accuracy: 0.8795\n",
      "Epoch 11/20\n",
      "10354/10354 [==============================] - 1s 129us/sample - loss: 0.2680 - accuracy: 0.8727\n",
      "Epoch 12/20\n",
      "10354/10354 [==============================] - 1s 131us/sample - loss: 0.2637 - accuracy: 0.8793\n",
      "Epoch 13/20\n",
      "10354/10354 [==============================] - 1s 129us/sample - loss: 0.2690 - accuracy: 0.8740\n",
      "Epoch 14/20\n",
      "10354/10354 [==============================] - 1s 127us/sample - loss: 0.2640 - accuracy: 0.8784\n",
      "Epoch 15/20\n",
      "10354/10354 [==============================] - 1s 132us/sample - loss: 0.2588 - accuracy: 0.8793\n",
      "Epoch 16/20\n",
      "10354/10354 [==============================] - 1s 128us/sample - loss: 0.2617 - accuracy: 0.8774\n",
      "Epoch 17/20\n",
      "10354/10354 [==============================] - 1s 134us/sample - loss: 0.2589 - accuracy: 0.8761\n",
      "Epoch 18/20\n",
      "10354/10354 [==============================] - 1s 131us/sample - loss: 0.2591 - accuracy: 0.8772\n",
      "Epoch 19/20\n",
      "10354/10354 [==============================] - 1s 130us/sample - loss: 0.2572 - accuracy: 0.8784\n",
      "Epoch 20/20\n",
      "10354/10354 [==============================] - 1s 132us/sample - loss: 0.2595 - accuracy: 0.8759\n"
     ]
    },
    {
     "data": {
      "text/plain": [
       "<tensorflow.python.keras.callbacks.History at 0x1b37db82a58>"
      ]
     },
     "execution_count": 255,
     "metadata": {},
     "output_type": "execute_result"
    }
   ],
   "source": [
    "model.fit(x_train,y_train,epochs = 20)"
   ]
  },
  {
   "cell_type": "code",
   "execution_count": 90,
   "metadata": {},
   "outputs": [
    {
     "data": {
      "text/plain": [
       "<tensorflow.python.keras.metrics.MeanMetricWrapper at 0x1b36c7af630>"
      ]
     },
     "execution_count": 90,
     "metadata": {},
     "output_type": "execute_result"
    }
   ],
   "source": []
  },
  {
   "cell_type": "code",
   "execution_count": 155,
   "metadata": {},
   "outputs": [
    {
     "data": {
      "text/plain": [
       "<tensorflow.python.keras.metrics.MeanMetricWrapper at 0x41b1a1b4e10>"
      ]
     },
     "execution_count": 155,
     "metadata": {},
     "output_type": "execute_result"
    }
   ],
   "source": [
    "# 84 % accuracy "
   ]
  },
  {
   "cell_type": "code",
   "execution_count": null,
   "metadata": {},
   "outputs": [],
   "source": []
  },
  {
   "cell_type": "code",
   "execution_count": null,
   "metadata": {},
   "outputs": [],
   "source": []
  },
  {
   "cell_type": "code",
   "execution_count": null,
   "metadata": {},
   "outputs": [],
   "source": []
  }
 ],
 "metadata": {
  "kernelspec": {
   "display_name": "Python 3",
   "language": "python",
   "name": "python3"
  },
  "language_info": {
   "codemirror_mode": {
    "name": "ipython",
    "version": 3
   },
   "file_extension": ".py",
   "mimetype": "text/x-python",
   "name": "python",
   "nbconvert_exporter": "python",
   "pygments_lexer": "ipython3",
   "version": "3.6.5"
  }
 },
 "nbformat": 4,
 "nbformat_minor": 2
}
